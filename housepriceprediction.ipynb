{
 "cells": [
  {
   "cell_type": "code",
   "execution_count": 1,
   "id": "b5152cf2",
   "metadata": {},
   "outputs": [],
   "source": [
    "from pandas import *\n",
    "from seaborn import *\n",
    "from sklearn.model_selection import train_test_split\n",
    "from sklearn.metrics import *\n",
    "from sklearn.linear_model import LinearRegression\n",
    "from sklearn.preprocessing import LabelEncoder\n",
    "from sklearn.preprocessing import MinMaxScaler,StandardScaler\n",
    "from numpy import *\n",
    "import matplotlib.pyplot as plt\n",
    "from mpl_toolkits import mplot3d\n",
    "from warnings import *\n",
    "filterwarnings('ignore')"
   ]
  },
  {
   "cell_type": "code",
   "execution_count": 2,
   "id": "083698cd",
   "metadata": {},
   "outputs": [
    {
     "data": {
      "text/html": [
       "<div>\n",
       "<style scoped>\n",
       "    .dataframe tbody tr th:only-of-type {\n",
       "        vertical-align: middle;\n",
       "    }\n",
       "\n",
       "    .dataframe tbody tr th {\n",
       "        vertical-align: top;\n",
       "    }\n",
       "\n",
       "    .dataframe thead th {\n",
       "        text-align: right;\n",
       "    }\n",
       "</style>\n",
       "<table border=\"1\" class=\"dataframe\">\n",
       "  <thead>\n",
       "    <tr style=\"text-align: right;\">\n",
       "      <th></th>\n",
       "      <th>Id</th>\n",
       "      <th>MSSubClass</th>\n",
       "      <th>MSZoning</th>\n",
       "      <th>LotFrontage</th>\n",
       "      <th>LotArea</th>\n",
       "      <th>Street</th>\n",
       "      <th>Alley</th>\n",
       "      <th>LotShape</th>\n",
       "      <th>LandContour</th>\n",
       "      <th>Utilities</th>\n",
       "      <th>...</th>\n",
       "      <th>PoolArea</th>\n",
       "      <th>PoolQC</th>\n",
       "      <th>Fence</th>\n",
       "      <th>MiscFeature</th>\n",
       "      <th>MiscVal</th>\n",
       "      <th>MoSold</th>\n",
       "      <th>YrSold</th>\n",
       "      <th>SaleType</th>\n",
       "      <th>SaleCondition</th>\n",
       "      <th>SalePrice</th>\n",
       "    </tr>\n",
       "  </thead>\n",
       "  <tbody>\n",
       "    <tr>\n",
       "      <th>265</th>\n",
       "      <td>266</td>\n",
       "      <td>20</td>\n",
       "      <td>RL</td>\n",
       "      <td>78.0</td>\n",
       "      <td>12090</td>\n",
       "      <td>Pave</td>\n",
       "      <td>NaN</td>\n",
       "      <td>IR1</td>\n",
       "      <td>Lvl</td>\n",
       "      <td>AllPub</td>\n",
       "      <td>...</td>\n",
       "      <td>0</td>\n",
       "      <td>NaN</td>\n",
       "      <td>GdPrv</td>\n",
       "      <td>NaN</td>\n",
       "      <td>0</td>\n",
       "      <td>6</td>\n",
       "      <td>2008</td>\n",
       "      <td>WD</td>\n",
       "      <td>Normal</td>\n",
       "      <td>175500</td>\n",
       "    </tr>\n",
       "    <tr>\n",
       "      <th>659</th>\n",
       "      <td>660</td>\n",
       "      <td>20</td>\n",
       "      <td>RL</td>\n",
       "      <td>75.0</td>\n",
       "      <td>9937</td>\n",
       "      <td>Pave</td>\n",
       "      <td>NaN</td>\n",
       "      <td>Reg</td>\n",
       "      <td>Lvl</td>\n",
       "      <td>AllPub</td>\n",
       "      <td>...</td>\n",
       "      <td>0</td>\n",
       "      <td>NaN</td>\n",
       "      <td>MnPrv</td>\n",
       "      <td>NaN</td>\n",
       "      <td>0</td>\n",
       "      <td>3</td>\n",
       "      <td>2009</td>\n",
       "      <td>WD</td>\n",
       "      <td>Normal</td>\n",
       "      <td>167000</td>\n",
       "    </tr>\n",
       "    <tr>\n",
       "      <th>66</th>\n",
       "      <td>67</td>\n",
       "      <td>20</td>\n",
       "      <td>RL</td>\n",
       "      <td>NaN</td>\n",
       "      <td>19900</td>\n",
       "      <td>Pave</td>\n",
       "      <td>NaN</td>\n",
       "      <td>Reg</td>\n",
       "      <td>Lvl</td>\n",
       "      <td>AllPub</td>\n",
       "      <td>...</td>\n",
       "      <td>0</td>\n",
       "      <td>NaN</td>\n",
       "      <td>NaN</td>\n",
       "      <td>NaN</td>\n",
       "      <td>0</td>\n",
       "      <td>7</td>\n",
       "      <td>2010</td>\n",
       "      <td>WD</td>\n",
       "      <td>Normal</td>\n",
       "      <td>180000</td>\n",
       "    </tr>\n",
       "    <tr>\n",
       "      <th>1381</th>\n",
       "      <td>1382</td>\n",
       "      <td>20</td>\n",
       "      <td>RL</td>\n",
       "      <td>NaN</td>\n",
       "      <td>12925</td>\n",
       "      <td>Pave</td>\n",
       "      <td>NaN</td>\n",
       "      <td>IR1</td>\n",
       "      <td>Lvl</td>\n",
       "      <td>AllPub</td>\n",
       "      <td>...</td>\n",
       "      <td>0</td>\n",
       "      <td>NaN</td>\n",
       "      <td>NaN</td>\n",
       "      <td>NaN</td>\n",
       "      <td>0</td>\n",
       "      <td>5</td>\n",
       "      <td>2008</td>\n",
       "      <td>WD</td>\n",
       "      <td>Normal</td>\n",
       "      <td>237500</td>\n",
       "    </tr>\n",
       "    <tr>\n",
       "      <th>1189</th>\n",
       "      <td>1190</td>\n",
       "      <td>60</td>\n",
       "      <td>RL</td>\n",
       "      <td>60.0</td>\n",
       "      <td>7500</td>\n",
       "      <td>Pave</td>\n",
       "      <td>NaN</td>\n",
       "      <td>Reg</td>\n",
       "      <td>Lvl</td>\n",
       "      <td>AllPub</td>\n",
       "      <td>...</td>\n",
       "      <td>0</td>\n",
       "      <td>NaN</td>\n",
       "      <td>NaN</td>\n",
       "      <td>NaN</td>\n",
       "      <td>0</td>\n",
       "      <td>6</td>\n",
       "      <td>2010</td>\n",
       "      <td>WD</td>\n",
       "      <td>Normal</td>\n",
       "      <td>189000</td>\n",
       "    </tr>\n",
       "  </tbody>\n",
       "</table>\n",
       "<p>5 rows × 81 columns</p>\n",
       "</div>"
      ],
      "text/plain": [
       "        Id  MSSubClass MSZoning  LotFrontage  LotArea Street Alley LotShape  \\\n",
       "265    266          20       RL         78.0    12090   Pave   NaN      IR1   \n",
       "659    660          20       RL         75.0     9937   Pave   NaN      Reg   \n",
       "66      67          20       RL          NaN    19900   Pave   NaN      Reg   \n",
       "1381  1382          20       RL          NaN    12925   Pave   NaN      IR1   \n",
       "1189  1190          60       RL         60.0     7500   Pave   NaN      Reg   \n",
       "\n",
       "     LandContour Utilities  ... PoolArea PoolQC  Fence MiscFeature MiscVal  \\\n",
       "265          Lvl    AllPub  ...        0    NaN  GdPrv         NaN       0   \n",
       "659          Lvl    AllPub  ...        0    NaN  MnPrv         NaN       0   \n",
       "66           Lvl    AllPub  ...        0    NaN    NaN         NaN       0   \n",
       "1381         Lvl    AllPub  ...        0    NaN    NaN         NaN       0   \n",
       "1189         Lvl    AllPub  ...        0    NaN    NaN         NaN       0   \n",
       "\n",
       "     MoSold YrSold  SaleType  SaleCondition  SalePrice  \n",
       "265       6   2008        WD         Normal     175500  \n",
       "659       3   2009        WD         Normal     167000  \n",
       "66        7   2010        WD         Normal     180000  \n",
       "1381      5   2008        WD         Normal     237500  \n",
       "1189      6   2010        WD         Normal     189000  \n",
       "\n",
       "[5 rows x 81 columns]"
      ]
     },
     "execution_count": 2,
     "metadata": {},
     "output_type": "execute_result"
    }
   ],
   "source": [
    "t=read_csv('train (1).csv')\n",
    "t.sample(5)"
   ]
  },
  {
   "cell_type": "code",
   "execution_count": 3,
   "id": "a614e06b",
   "metadata": {},
   "outputs": [
    {
     "data": {
      "text/html": [
       "<div>\n",
       "<style scoped>\n",
       "    .dataframe tbody tr th:only-of-type {\n",
       "        vertical-align: middle;\n",
       "    }\n",
       "\n",
       "    .dataframe tbody tr th {\n",
       "        vertical-align: top;\n",
       "    }\n",
       "\n",
       "    .dataframe thead th {\n",
       "        text-align: right;\n",
       "    }\n",
       "</style>\n",
       "<table border=\"1\" class=\"dataframe\">\n",
       "  <thead>\n",
       "    <tr style=\"text-align: right;\">\n",
       "      <th></th>\n",
       "      <th>Id</th>\n",
       "      <th>MSSubClass</th>\n",
       "      <th>MSZoning</th>\n",
       "      <th>LotFrontage</th>\n",
       "      <th>LotArea</th>\n",
       "      <th>Street</th>\n",
       "      <th>Alley</th>\n",
       "      <th>LotShape</th>\n",
       "      <th>LandContour</th>\n",
       "      <th>Utilities</th>\n",
       "      <th>...</th>\n",
       "      <th>PoolArea</th>\n",
       "      <th>PoolQC</th>\n",
       "      <th>Fence</th>\n",
       "      <th>MiscFeature</th>\n",
       "      <th>MiscVal</th>\n",
       "      <th>MoSold</th>\n",
       "      <th>YrSold</th>\n",
       "      <th>SaleType</th>\n",
       "      <th>SaleCondition</th>\n",
       "      <th>SalePrice</th>\n",
       "    </tr>\n",
       "  </thead>\n",
       "  <tbody>\n",
       "    <tr>\n",
       "      <th>0</th>\n",
       "      <td>1</td>\n",
       "      <td>60</td>\n",
       "      <td>RL</td>\n",
       "      <td>65.0</td>\n",
       "      <td>8450</td>\n",
       "      <td>Pave</td>\n",
       "      <td>NaN</td>\n",
       "      <td>Reg</td>\n",
       "      <td>Lvl</td>\n",
       "      <td>AllPub</td>\n",
       "      <td>...</td>\n",
       "      <td>0</td>\n",
       "      <td>NaN</td>\n",
       "      <td>NaN</td>\n",
       "      <td>NaN</td>\n",
       "      <td>0</td>\n",
       "      <td>2</td>\n",
       "      <td>2008</td>\n",
       "      <td>WD</td>\n",
       "      <td>Normal</td>\n",
       "      <td>208500</td>\n",
       "    </tr>\n",
       "    <tr>\n",
       "      <th>1</th>\n",
       "      <td>2</td>\n",
       "      <td>20</td>\n",
       "      <td>RL</td>\n",
       "      <td>80.0</td>\n",
       "      <td>9600</td>\n",
       "      <td>Pave</td>\n",
       "      <td>NaN</td>\n",
       "      <td>Reg</td>\n",
       "      <td>Lvl</td>\n",
       "      <td>AllPub</td>\n",
       "      <td>...</td>\n",
       "      <td>0</td>\n",
       "      <td>NaN</td>\n",
       "      <td>NaN</td>\n",
       "      <td>NaN</td>\n",
       "      <td>0</td>\n",
       "      <td>5</td>\n",
       "      <td>2007</td>\n",
       "      <td>WD</td>\n",
       "      <td>Normal</td>\n",
       "      <td>181500</td>\n",
       "    </tr>\n",
       "    <tr>\n",
       "      <th>2</th>\n",
       "      <td>3</td>\n",
       "      <td>60</td>\n",
       "      <td>RL</td>\n",
       "      <td>68.0</td>\n",
       "      <td>11250</td>\n",
       "      <td>Pave</td>\n",
       "      <td>NaN</td>\n",
       "      <td>IR1</td>\n",
       "      <td>Lvl</td>\n",
       "      <td>AllPub</td>\n",
       "      <td>...</td>\n",
       "      <td>0</td>\n",
       "      <td>NaN</td>\n",
       "      <td>NaN</td>\n",
       "      <td>NaN</td>\n",
       "      <td>0</td>\n",
       "      <td>9</td>\n",
       "      <td>2008</td>\n",
       "      <td>WD</td>\n",
       "      <td>Normal</td>\n",
       "      <td>223500</td>\n",
       "    </tr>\n",
       "    <tr>\n",
       "      <th>3</th>\n",
       "      <td>4</td>\n",
       "      <td>70</td>\n",
       "      <td>RL</td>\n",
       "      <td>60.0</td>\n",
       "      <td>9550</td>\n",
       "      <td>Pave</td>\n",
       "      <td>NaN</td>\n",
       "      <td>IR1</td>\n",
       "      <td>Lvl</td>\n",
       "      <td>AllPub</td>\n",
       "      <td>...</td>\n",
       "      <td>0</td>\n",
       "      <td>NaN</td>\n",
       "      <td>NaN</td>\n",
       "      <td>NaN</td>\n",
       "      <td>0</td>\n",
       "      <td>2</td>\n",
       "      <td>2006</td>\n",
       "      <td>WD</td>\n",
       "      <td>Abnorml</td>\n",
       "      <td>140000</td>\n",
       "    </tr>\n",
       "    <tr>\n",
       "      <th>4</th>\n",
       "      <td>5</td>\n",
       "      <td>60</td>\n",
       "      <td>RL</td>\n",
       "      <td>84.0</td>\n",
       "      <td>14260</td>\n",
       "      <td>Pave</td>\n",
       "      <td>NaN</td>\n",
       "      <td>IR1</td>\n",
       "      <td>Lvl</td>\n",
       "      <td>AllPub</td>\n",
       "      <td>...</td>\n",
       "      <td>0</td>\n",
       "      <td>NaN</td>\n",
       "      <td>NaN</td>\n",
       "      <td>NaN</td>\n",
       "      <td>0</td>\n",
       "      <td>12</td>\n",
       "      <td>2008</td>\n",
       "      <td>WD</td>\n",
       "      <td>Normal</td>\n",
       "      <td>250000</td>\n",
       "    </tr>\n",
       "    <tr>\n",
       "      <th>...</th>\n",
       "      <td>...</td>\n",
       "      <td>...</td>\n",
       "      <td>...</td>\n",
       "      <td>...</td>\n",
       "      <td>...</td>\n",
       "      <td>...</td>\n",
       "      <td>...</td>\n",
       "      <td>...</td>\n",
       "      <td>...</td>\n",
       "      <td>...</td>\n",
       "      <td>...</td>\n",
       "      <td>...</td>\n",
       "      <td>...</td>\n",
       "      <td>...</td>\n",
       "      <td>...</td>\n",
       "      <td>...</td>\n",
       "      <td>...</td>\n",
       "      <td>...</td>\n",
       "      <td>...</td>\n",
       "      <td>...</td>\n",
       "      <td>...</td>\n",
       "    </tr>\n",
       "    <tr>\n",
       "      <th>1455</th>\n",
       "      <td>1456</td>\n",
       "      <td>60</td>\n",
       "      <td>RL</td>\n",
       "      <td>62.0</td>\n",
       "      <td>7917</td>\n",
       "      <td>Pave</td>\n",
       "      <td>NaN</td>\n",
       "      <td>Reg</td>\n",
       "      <td>Lvl</td>\n",
       "      <td>AllPub</td>\n",
       "      <td>...</td>\n",
       "      <td>0</td>\n",
       "      <td>NaN</td>\n",
       "      <td>NaN</td>\n",
       "      <td>NaN</td>\n",
       "      <td>0</td>\n",
       "      <td>8</td>\n",
       "      <td>2007</td>\n",
       "      <td>WD</td>\n",
       "      <td>Normal</td>\n",
       "      <td>175000</td>\n",
       "    </tr>\n",
       "    <tr>\n",
       "      <th>1456</th>\n",
       "      <td>1457</td>\n",
       "      <td>20</td>\n",
       "      <td>RL</td>\n",
       "      <td>85.0</td>\n",
       "      <td>13175</td>\n",
       "      <td>Pave</td>\n",
       "      <td>NaN</td>\n",
       "      <td>Reg</td>\n",
       "      <td>Lvl</td>\n",
       "      <td>AllPub</td>\n",
       "      <td>...</td>\n",
       "      <td>0</td>\n",
       "      <td>NaN</td>\n",
       "      <td>MnPrv</td>\n",
       "      <td>NaN</td>\n",
       "      <td>0</td>\n",
       "      <td>2</td>\n",
       "      <td>2010</td>\n",
       "      <td>WD</td>\n",
       "      <td>Normal</td>\n",
       "      <td>210000</td>\n",
       "    </tr>\n",
       "    <tr>\n",
       "      <th>1457</th>\n",
       "      <td>1458</td>\n",
       "      <td>70</td>\n",
       "      <td>RL</td>\n",
       "      <td>66.0</td>\n",
       "      <td>9042</td>\n",
       "      <td>Pave</td>\n",
       "      <td>NaN</td>\n",
       "      <td>Reg</td>\n",
       "      <td>Lvl</td>\n",
       "      <td>AllPub</td>\n",
       "      <td>...</td>\n",
       "      <td>0</td>\n",
       "      <td>NaN</td>\n",
       "      <td>GdPrv</td>\n",
       "      <td>Shed</td>\n",
       "      <td>2500</td>\n",
       "      <td>5</td>\n",
       "      <td>2010</td>\n",
       "      <td>WD</td>\n",
       "      <td>Normal</td>\n",
       "      <td>266500</td>\n",
       "    </tr>\n",
       "    <tr>\n",
       "      <th>1458</th>\n",
       "      <td>1459</td>\n",
       "      <td>20</td>\n",
       "      <td>RL</td>\n",
       "      <td>68.0</td>\n",
       "      <td>9717</td>\n",
       "      <td>Pave</td>\n",
       "      <td>NaN</td>\n",
       "      <td>Reg</td>\n",
       "      <td>Lvl</td>\n",
       "      <td>AllPub</td>\n",
       "      <td>...</td>\n",
       "      <td>0</td>\n",
       "      <td>NaN</td>\n",
       "      <td>NaN</td>\n",
       "      <td>NaN</td>\n",
       "      <td>0</td>\n",
       "      <td>4</td>\n",
       "      <td>2010</td>\n",
       "      <td>WD</td>\n",
       "      <td>Normal</td>\n",
       "      <td>142125</td>\n",
       "    </tr>\n",
       "    <tr>\n",
       "      <th>1459</th>\n",
       "      <td>1460</td>\n",
       "      <td>20</td>\n",
       "      <td>RL</td>\n",
       "      <td>75.0</td>\n",
       "      <td>9937</td>\n",
       "      <td>Pave</td>\n",
       "      <td>NaN</td>\n",
       "      <td>Reg</td>\n",
       "      <td>Lvl</td>\n",
       "      <td>AllPub</td>\n",
       "      <td>...</td>\n",
       "      <td>0</td>\n",
       "      <td>NaN</td>\n",
       "      <td>NaN</td>\n",
       "      <td>NaN</td>\n",
       "      <td>0</td>\n",
       "      <td>6</td>\n",
       "      <td>2008</td>\n",
       "      <td>WD</td>\n",
       "      <td>Normal</td>\n",
       "      <td>147500</td>\n",
       "    </tr>\n",
       "  </tbody>\n",
       "</table>\n",
       "<p>1460 rows × 81 columns</p>\n",
       "</div>"
      ],
      "text/plain": [
       "        Id  MSSubClass MSZoning  LotFrontage  LotArea Street Alley LotShape  \\\n",
       "0        1          60       RL         65.0     8450   Pave   NaN      Reg   \n",
       "1        2          20       RL         80.0     9600   Pave   NaN      Reg   \n",
       "2        3          60       RL         68.0    11250   Pave   NaN      IR1   \n",
       "3        4          70       RL         60.0     9550   Pave   NaN      IR1   \n",
       "4        5          60       RL         84.0    14260   Pave   NaN      IR1   \n",
       "...    ...         ...      ...          ...      ...    ...   ...      ...   \n",
       "1455  1456          60       RL         62.0     7917   Pave   NaN      Reg   \n",
       "1456  1457          20       RL         85.0    13175   Pave   NaN      Reg   \n",
       "1457  1458          70       RL         66.0     9042   Pave   NaN      Reg   \n",
       "1458  1459          20       RL         68.0     9717   Pave   NaN      Reg   \n",
       "1459  1460          20       RL         75.0     9937   Pave   NaN      Reg   \n",
       "\n",
       "     LandContour Utilities  ... PoolArea PoolQC  Fence MiscFeature MiscVal  \\\n",
       "0            Lvl    AllPub  ...        0    NaN    NaN         NaN       0   \n",
       "1            Lvl    AllPub  ...        0    NaN    NaN         NaN       0   \n",
       "2            Lvl    AllPub  ...        0    NaN    NaN         NaN       0   \n",
       "3            Lvl    AllPub  ...        0    NaN    NaN         NaN       0   \n",
       "4            Lvl    AllPub  ...        0    NaN    NaN         NaN       0   \n",
       "...          ...       ...  ...      ...    ...    ...         ...     ...   \n",
       "1455         Lvl    AllPub  ...        0    NaN    NaN         NaN       0   \n",
       "1456         Lvl    AllPub  ...        0    NaN  MnPrv         NaN       0   \n",
       "1457         Lvl    AllPub  ...        0    NaN  GdPrv        Shed    2500   \n",
       "1458         Lvl    AllPub  ...        0    NaN    NaN         NaN       0   \n",
       "1459         Lvl    AllPub  ...        0    NaN    NaN         NaN       0   \n",
       "\n",
       "     MoSold YrSold  SaleType  SaleCondition  SalePrice  \n",
       "0         2   2008        WD         Normal     208500  \n",
       "1         5   2007        WD         Normal     181500  \n",
       "2         9   2008        WD         Normal     223500  \n",
       "3         2   2006        WD        Abnorml     140000  \n",
       "4        12   2008        WD         Normal     250000  \n",
       "...     ...    ...       ...            ...        ...  \n",
       "1455      8   2007        WD         Normal     175000  \n",
       "1456      2   2010        WD         Normal     210000  \n",
       "1457      5   2010        WD         Normal     266500  \n",
       "1458      4   2010        WD         Normal     142125  \n",
       "1459      6   2008        WD         Normal     147500  \n",
       "\n",
       "[1460 rows x 81 columns]"
      ]
     },
     "execution_count": 3,
     "metadata": {},
     "output_type": "execute_result"
    }
   ],
   "source": [
    "t[t.isnull().any(axis=1)]"
   ]
  },
  {
   "cell_type": "code",
   "execution_count": 4,
   "id": "5e0276db",
   "metadata": {},
   "outputs": [
    {
     "data": {
      "text/plain": [
       "(1460, 81)"
      ]
     },
     "execution_count": 4,
     "metadata": {},
     "output_type": "execute_result"
    }
   ],
   "source": [
    "t.shape"
   ]
  },
  {
   "cell_type": "code",
   "execution_count": 5,
   "id": "6a1ce24f",
   "metadata": {},
   "outputs": [],
   "source": [
    "t.drop(['Id','Alley','PoolQC','MiscFeature','Fence','FireplaceQu'],axis=1,inplace=True)"
   ]
  },
  {
   "cell_type": "code",
   "execution_count": 6,
   "id": "b5b412a1",
   "metadata": {},
   "outputs": [
    {
     "data": {
      "text/plain": [
       "0       65.0\n",
       "1       80.0\n",
       "2       68.0\n",
       "3       60.0\n",
       "4       84.0\n",
       "        ... \n",
       "1455    62.0\n",
       "1456    85.0\n",
       "1457    66.0\n",
       "1458    68.0\n",
       "1459    75.0\n",
       "Name: LotFrontage, Length: 1460, dtype: float64"
      ]
     },
     "execution_count": 6,
     "metadata": {},
     "output_type": "execute_result"
    }
   ],
   "source": [
    "t.LotFrontage"
   ]
  },
  {
   "cell_type": "code",
   "execution_count": 7,
   "id": "fc432a2b",
   "metadata": {},
   "outputs": [],
   "source": [
    "def pdf(y):\n",
    "    o=[]\n",
    "    m=mean(y)\n",
    "    s=std(y)\n",
    "    for i in y:\n",
    "        o.append(1/(s*sqrt(2*pi))*exp(-(i-m)**2/(2*s**2)))\n",
    "    return o"
   ]
  },
  {
   "cell_type": "code",
   "execution_count": 8,
   "id": "4e26abf1",
   "metadata": {},
   "outputs": [],
   "source": [
    "def per(y):\n",
    "    l=[]\n",
    "    q1,q2=percentile(sorted(y),[25,75])\n",
    "    iqr=q2-q1\n",
    "    low=q1-(1.5*iqr)\n",
    "    high=q2+(1.5*iqr)\n",
    "    l.append(low)\n",
    "    l.append(high)\n",
    "    return l"
   ]
  },
  {
   "cell_type": "code",
   "execution_count": 9,
   "id": "f2248fe8",
   "metadata": {},
   "outputs": [],
   "source": [
    "t1=t.LotFrontage\n",
    "t1.dropna(inplace=True)"
   ]
  },
  {
   "cell_type": "code",
   "execution_count": 10,
   "id": "a306df37",
   "metadata": {},
   "outputs": [
    {
     "data": {
      "text/plain": [
       "<AxesSubplot:xlabel='LotFrontage'>"
      ]
     },
     "execution_count": 10,
     "metadata": {},
     "output_type": "execute_result"
    },
    {
     "data": {
      "image/png": "[encoded data removed]",
      "text/plain": [
       "<Figure size 640x480 with 1 Axes>"
      ]
     },
     "metadata": {},
     "output_type": "display_data"
    }
   ],
   "source": [
    "boxplot(t.LotFrontage)"
   ]
  },
  {
   "cell_type": "code",
   "execution_count": 11,
   "id": "4cf25f8c",
   "metadata": {},
   "outputs": [
    {
     "data": {
      "text/plain": [
       "<AxesSubplot:xlabel='LotFrontage'>"
      ]
     },
     "execution_count": 11,
     "metadata": {},
     "output_type": "execute_result"
    },
    {
     "data": {
      "image/png": "[encoded data removed]",
      "text/plain": [
       "<Figure size 640x480 with 1 Axes>"
      ]
     },
     "metadata": {},
     "output_type": "display_data"
    }
   ],
   "source": [
    "lineplot(t.LotFrontage,pdf(t.LotFrontage),marker='>')"
   ]
  },
  {
   "cell_type": "code",
   "execution_count": 12,
   "id": "4bcb7edb",
   "metadata": {},
   "outputs": [],
   "source": [
    "l=per(t1)"
   ]
  },
  {
   "cell_type": "code",
   "execution_count": 13,
   "id": "c1db654b",
   "metadata": {},
   "outputs": [
    {
     "data": {
      "text/plain": [
       "[27.5, 111.5]"
      ]
     },
     "execution_count": 13,
     "metadata": {},
     "output_type": "execute_result"
    }
   ],
   "source": [
    "l"
   ]
  },
  {
   "cell_type": "code",
   "execution_count": 14,
   "id": "61dab172",
   "metadata": {},
   "outputs": [
    {
     "data": {
      "text/plain": [
       "69.0"
      ]
     },
     "execution_count": 14,
     "metadata": {},
     "output_type": "execute_result"
    }
   ],
   "source": [
    "t1.median()"
   ]
  },
  {
   "cell_type": "code",
   "execution_count": 15,
   "id": "4d342b74",
   "metadata": {},
   "outputs": [],
   "source": [
    "t.LotFrontage.fillna(t1.median(),inplace=True)"
   ]
  },
  {
   "cell_type": "code",
   "execution_count": 16,
   "id": "7c91a55b",
   "metadata": {},
   "outputs": [],
   "source": [
    "t=t[t.LotFrontage>31.5]"
   ]
  },
  {
   "cell_type": "code",
   "execution_count": 17,
   "id": "50b94175",
   "metadata": {},
   "outputs": [],
   "source": [
    "t=t[t.LotFrontage<107.5]"
   ]
  },
  {
   "cell_type": "code",
   "execution_count": 18,
   "id": "bf18c8e4",
   "metadata": {},
   "outputs": [],
   "source": [
    "s=StandardScaler()\n",
    "t.LotFrontage=s.fit_transform(array(t.LotFrontage).reshape(-1,1))"
   ]
  },
  {
   "cell_type": "code",
   "execution_count": 19,
   "id": "be81549e",
   "metadata": {},
   "outputs": [
    {
     "data": {
      "text/plain": [
       "<AxesSubplot:xlabel='LotFrontage'>"
      ]
     },
     "execution_count": 19,
     "metadata": {},
     "output_type": "execute_result"
    },
    {
     "data": {
      "image/png": "[encoded data removed]",
      "text/plain": [
       "<Figure size 640x480 with 1 Axes>"
      ]
     },
     "metadata": {},
     "output_type": "display_data"
    }
   ],
   "source": [
    "lineplot(t.LotFrontage,pdf(t.LotFrontage),marker='>')"
   ]
  },
  {
   "cell_type": "code",
   "execution_count": 20,
   "id": "dbf3f0c3",
   "metadata": {},
   "outputs": [
    {
     "data": {
      "text/plain": [
       "0       RL\n",
       "1       RL\n",
       "2       RL\n",
       "3       RL\n",
       "4       RL\n",
       "        ..\n",
       "1455    RL\n",
       "1456    RL\n",
       "1457    RL\n",
       "1458    RL\n",
       "1459    RL\n",
       "Name: MSZoning, Length: 1354, dtype: object"
      ]
     },
     "execution_count": 20,
     "metadata": {},
     "output_type": "execute_result"
    }
   ],
   "source": [
    "t.MSZoning"
   ]
  },
  {
   "cell_type": "code",
   "execution_count": 21,
   "id": "193edecd",
   "metadata": {},
   "outputs": [
    {
     "data": {
      "text/plain": [
       "RL         1091\n",
       "RM          183\n",
       "FV           55\n",
       "RH           16\n",
       "C (all)       9\n",
       "Name: MSZoning, dtype: int64"
      ]
     },
     "execution_count": 21,
     "metadata": {},
     "output_type": "execute_result"
    }
   ],
   "source": [
    "t.MSZoning.value_counts()"
   ]
  },
  {
   "cell_type": "code",
   "execution_count": 22,
   "id": "ec10e451",
   "metadata": {},
   "outputs": [],
   "source": [
    "l=LabelEncoder()\n",
    "t.MSZoning=l.fit_transform(t.MSZoning)"
   ]
  },
  {
   "cell_type": "code",
   "execution_count": 23,
   "id": "63933f8a",
   "metadata": {},
   "outputs": [
    {
     "data": {
      "text/plain": [
       "Pave    1350\n",
       "Grvl       4\n",
       "Name: Street, dtype: int64"
      ]
     },
     "execution_count": 23,
     "metadata": {},
     "output_type": "execute_result"
    }
   ],
   "source": [
    "t.Street.value_counts()"
   ]
  },
  {
   "cell_type": "code",
   "execution_count": 24,
   "id": "460f783d",
   "metadata": {},
   "outputs": [],
   "source": [
    "t.drop('Street',inplace=True,axis=1)"
   ]
  },
  {
   "cell_type": "code",
   "execution_count": 25,
   "id": "d903e6fc",
   "metadata": {},
   "outputs": [],
   "source": [
    "l=per(t.LotArea)"
   ]
  },
  {
   "cell_type": "code",
   "execution_count": 26,
   "id": "9b8b7af6",
   "metadata": {},
   "outputs": [
    {
     "data": {
      "text/plain": [
       "[2255.5, 16891.5]"
      ]
     },
     "execution_count": 26,
     "metadata": {},
     "output_type": "execute_result"
    }
   ],
   "source": [
    "l"
   ]
  },
  {
   "cell_type": "code",
   "execution_count": 27,
   "id": "5dd0dd5b",
   "metadata": {},
   "outputs": [],
   "source": [
    "t=t[t.LotArea>2255.5]"
   ]
  },
  {
   "cell_type": "code",
   "execution_count": 28,
   "id": "bbbf2a78",
   "metadata": {},
   "outputs": [],
   "source": [
    "t=t[t.LotArea<16891.5]"
   ]
  },
  {
   "cell_type": "code",
   "execution_count": 29,
   "id": "1ab38662",
   "metadata": {},
   "outputs": [
    {
     "data": {
      "text/plain": [
       "<AxesSubplot:xlabel='LotArea'>"
      ]
     },
     "execution_count": 29,
     "metadata": {},
     "output_type": "execute_result"
    },
    {
     "data": {
      "image/png": "[encoded data removed]",
      "text/plain": [
       "<Figure size 640x480 with 1 Axes>"
      ]
     },
     "metadata": {},
     "output_type": "display_data"
    }
   ],
   "source": [
    "boxplot(t.LotArea)"
   ]
  },
  {
   "cell_type": "code",
   "execution_count": 30,
   "id": "0ee8cd97",
   "metadata": {},
   "outputs": [],
   "source": [
    "t.LotArea=s.fit_transform(array(t.LotArea).reshape(-1,1))"
   ]
  },
  {
   "cell_type": "code",
   "execution_count": 31,
   "id": "e5261e00",
   "metadata": {},
   "outputs": [
    {
     "data": {
      "text/plain": [
       "<AxesSubplot:xlabel='LotArea'>"
      ]
     },
     "execution_count": 31,
     "metadata": {},
     "output_type": "execute_result"
    },
    {
     "data": {
      "image/png": "[encoded data removed]",
      "text/plain": [
       "<Figure size 640x480 with 1 Axes>"
      ]
     },
     "metadata": {},
     "output_type": "display_data"
    }
   ],
   "source": [
    "lineplot(t.LotArea,pdf(t.LotArea),marker='>')"
   ]
  },
  {
   "cell_type": "code",
   "execution_count": 32,
   "id": "4aecfa45",
   "metadata": {},
   "outputs": [],
   "source": [
    "t['LotShape']=LabelEncoder().fit_transform(t.LotShape)"
   ]
  },
  {
   "cell_type": "code",
   "execution_count": 33,
   "id": "56114e7c",
   "metadata": {},
   "outputs": [
    {
     "data": {
      "text/plain": [
       "3    828\n",
       "0    433\n",
       "1     24\n",
       "2      3\n",
       "Name: LotShape, dtype: int64"
      ]
     },
     "execution_count": 33,
     "metadata": {},
     "output_type": "execute_result"
    }
   ],
   "source": [
    "t.LotShape.value_counts()"
   ]
  },
  {
   "cell_type": "code",
   "execution_count": 34,
   "id": "76501ef7",
   "metadata": {},
   "outputs": [
    {
     "data": {
      "text/plain": [
       "Lvl    1177\n",
       "Bnk      52\n",
       "HLS      41\n",
       "Low      18\n",
       "Name: LandContour, dtype: int64"
      ]
     },
     "execution_count": 34,
     "metadata": {},
     "output_type": "execute_result"
    }
   ],
   "source": [
    "t.LandContour.value_counts()"
   ]
  },
  {
   "cell_type": "code",
   "execution_count": 35,
   "id": "5e2e9ddf",
   "metadata": {},
   "outputs": [],
   "source": [
    "t['LandContour']=LabelEncoder().fit_transform(t.LandContour)"
   ]
  },
  {
   "cell_type": "code",
   "execution_count": 36,
   "id": "3e4fc18f",
   "metadata": {},
   "outputs": [
    {
     "data": {
      "text/plain": [
       "AllPub    1287\n",
       "NoSeWa       1\n",
       "Name: Utilities, dtype: int64"
      ]
     },
     "execution_count": 36,
     "metadata": {},
     "output_type": "execute_result"
    }
   ],
   "source": [
    "t.Utilities.value_counts()"
   ]
  },
  {
   "cell_type": "code",
   "execution_count": 37,
   "id": "7590a2fd",
   "metadata": {},
   "outputs": [],
   "source": [
    "t.drop('Utilities',axis=1,inplace=True)"
   ]
  },
  {
   "cell_type": "code",
   "execution_count": 38,
   "id": "ed472e6e",
   "metadata": {},
   "outputs": [
    {
     "data": {
      "text/plain": [
       "Inside     943\n",
       "Corner     227\n",
       "CulDSac     73\n",
       "FR2         42\n",
       "FR3          3\n",
       "Name: LotConfig, dtype: int64"
      ]
     },
     "execution_count": 38,
     "metadata": {},
     "output_type": "execute_result"
    }
   ],
   "source": [
    "t.LotConfig.value_counts()"
   ]
  },
  {
   "cell_type": "code",
   "execution_count": 39,
   "id": "5515da1b",
   "metadata": {},
   "outputs": [],
   "source": [
    "t['LotConfig']=LabelEncoder().fit_transform(t.LotConfig)"
   ]
  },
  {
   "cell_type": "code",
   "execution_count": 40,
   "id": "24d89344",
   "metadata": {},
   "outputs": [
    {
     "data": {
      "text/plain": [
       "Gtl    1236\n",
       "Mod      49\n",
       "Sev       3\n",
       "Name: LandSlope, dtype: int64"
      ]
     },
     "execution_count": 40,
     "metadata": {},
     "output_type": "execute_result"
    }
   ],
   "source": [
    "t.LandSlope.value_counts()"
   ]
  },
  {
   "cell_type": "code",
   "execution_count": 41,
   "id": "73088841",
   "metadata": {},
   "outputs": [],
   "source": [
    "t.drop('LandSlope',axis=1,inplace=True)"
   ]
  },
  {
   "cell_type": "code",
   "execution_count": 42,
   "id": "0ea772c3",
   "metadata": {},
   "outputs": [
    {
     "data": {
      "text/plain": [
       "NAmes      214\n",
       "CollgCr    144\n",
       "OldTown    108\n",
       "Edwards     89\n",
       "Somerst     71\n",
       "Sawyer      69\n",
       "NWAmes      68\n",
       "Gilbert     67\n",
       "NridgHt     66\n",
       "SawyerW     57\n",
       "BrkSide     57\n",
       "Crawfor     44\n",
       "Mitchel     40\n",
       "IDOTRR      35\n",
       "NoRidge     33\n",
       "Timber      31\n",
       "SWISU       25\n",
       "StoneBr     22\n",
       "Blmngtn     17\n",
       "ClearCr     13\n",
       "Veenker      8\n",
       "MeadowV      6\n",
       "NPkVill      4\n",
       "Name: Neighborhood, dtype: int64"
      ]
     },
     "execution_count": 42,
     "metadata": {},
     "output_type": "execute_result"
    }
   ],
   "source": [
    "t.Neighborhood.value_counts()"
   ]
  },
  {
   "cell_type": "code",
   "execution_count": 43,
   "id": "2b2bc07d",
   "metadata": {},
   "outputs": [],
   "source": [
    "t['Neighborhood']=LabelEncoder().fit_transform(t.Neighborhood)"
   ]
  },
  {
   "cell_type": "code",
   "execution_count": 44,
   "id": "d610b789",
   "metadata": {},
   "outputs": [
    {
     "data": {
      "text/plain": [
       "Norm      1115\n",
       "Feedr       72\n",
       "Artery      41\n",
       "RRAn        23\n",
       "PosN        16\n",
       "RRAe        11\n",
       "PosA         4\n",
       "RRNn         4\n",
       "RRNe         2\n",
       "Name: Condition1, dtype: int64"
      ]
     },
     "execution_count": 44,
     "metadata": {},
     "output_type": "execute_result"
    }
   ],
   "source": [
    "t.Condition1.value_counts()"
   ]
  },
  {
   "cell_type": "code",
   "execution_count": 45,
   "id": "6ac362c0",
   "metadata": {},
   "outputs": [
    {
     "data": {
      "text/plain": [
       "Norm      1276\n",
       "Feedr        6\n",
       "Artery       2\n",
       "RRNn         2\n",
       "PosA         1\n",
       "RRAn         1\n",
       "Name: Condition2, dtype: int64"
      ]
     },
     "execution_count": 45,
     "metadata": {},
     "output_type": "execute_result"
    }
   ],
   "source": [
    "t.Condition2.value_counts()"
   ]
  },
  {
   "cell_type": "code",
   "execution_count": 46,
   "id": "cfae140c",
   "metadata": {},
   "outputs": [],
   "source": [
    "t.drop(['Condition1','Condition2'],axis=1,inplace=True)"
   ]
  },
  {
   "cell_type": "code",
   "execution_count": 47,
   "id": "e42df349",
   "metadata": {},
   "outputs": [
    {
     "data": {
      "text/plain": [
       "1Fam      1105\n",
       "TwnhsE      97\n",
       "Duplex      49\n",
       "2fmCon      28\n",
       "Twnhs        9\n",
       "Name: BldgType, dtype: int64"
      ]
     },
     "execution_count": 47,
     "metadata": {},
     "output_type": "execute_result"
    }
   ],
   "source": [
    "t.BldgType.value_counts()"
   ]
  },
  {
   "cell_type": "code",
   "execution_count": 48,
   "id": "c7eef4f2",
   "metadata": {},
   "outputs": [],
   "source": [
    "t['BldgType']=LabelEncoder().fit_transform(t.BldgType)"
   ]
  },
  {
   "cell_type": "code",
   "execution_count": 49,
   "id": "5a8f49d8",
   "metadata": {},
   "outputs": [
    {
     "data": {
      "text/plain": [
       "1Story    661\n",
       "2Story    363\n",
       "1.5Fin    143\n",
       "SLvl       59\n",
       "SFoyer     31\n",
       "1.5Unf     14\n",
       "2.5Unf     11\n",
       "2.5Fin      6\n",
       "Name: HouseStyle, dtype: int64"
      ]
     },
     "execution_count": 49,
     "metadata": {},
     "output_type": "execute_result"
    }
   ],
   "source": [
    "t.HouseStyle.value_counts()"
   ]
  },
  {
   "cell_type": "code",
   "execution_count": 50,
   "id": "660b06bf",
   "metadata": {},
   "outputs": [],
   "source": [
    "t['HouseStyle']=LabelEncoder().fit_transform(t.HouseStyle)"
   ]
  },
  {
   "cell_type": "code",
   "execution_count": 51,
   "id": "8bf214c7",
   "metadata": {},
   "outputs": [
    {
     "data": {
      "text/plain": [
       "5     362\n",
       "6     323\n",
       "7     284\n",
       "8     151\n",
       "4      99\n",
       "9      34\n",
       "3      19\n",
       "10     11\n",
       "2       3\n",
       "1       2\n",
       "Name: OverallQual, dtype: int64"
      ]
     },
     "execution_count": 51,
     "metadata": {},
     "output_type": "execute_result"
    }
   ],
   "source": [
    "t.OverallQual.value_counts()"
   ]
  },
  {
   "cell_type": "code",
   "execution_count": 52,
   "id": "9db53e1f",
   "metadata": {},
   "outputs": [
    {
     "data": {
      "text/plain": [
       "5    718\n",
       "6    229\n",
       "7    184\n",
       "8     67\n",
       "4     44\n",
       "3     22\n",
       "9     18\n",
       "2      5\n",
       "1      1\n",
       "Name: OverallCond, dtype: int64"
      ]
     },
     "execution_count": 52,
     "metadata": {},
     "output_type": "execute_result"
    }
   ],
   "source": [
    "t.OverallCond.value_counts()"
   ]
  },
  {
   "cell_type": "code",
   "execution_count": 53,
   "id": "9043f9a4",
   "metadata": {},
   "outputs": [
    {
     "data": {
      "text/plain": [
       "<AxesSubplot:>"
      ]
     },
     "execution_count": 53,
     "metadata": {},
     "output_type": "execute_result"
    },
    {
     "data": {
      "image/png": "[encoded data removed]",
      "text/plain": [
       "<Figure size 640x480 with 2 Axes>"
      ]
     },
     "metadata": {},
     "output_type": "display_data"
    }
   ],
   "source": [
    "heatmap(corrcoef(t.OverallCond,t.OverallQual))"
   ]
  },
  {
   "cell_type": "code",
   "execution_count": 54,
   "id": "69608782",
   "metadata": {},
   "outputs": [],
   "source": [
    "t.drop('OverallCond',axis=1,inplace=True)"
   ]
  },
  {
   "cell_type": "code",
   "execution_count": 55,
   "id": "da9dd3c9",
   "metadata": {},
   "outputs": [],
   "source": [
    "t.YearBuilt=t.YearBuilt-min(t.YearBuilt)"
   ]
  },
  {
   "cell_type": "code",
   "execution_count": 56,
   "id": "e1f211be",
   "metadata": {},
   "outputs": [],
   "source": [
    "t.YearRemodAdd=t.YearRemodAdd-min(t.YearRemodAdd)"
   ]
  },
  {
   "cell_type": "code",
   "execution_count": 57,
   "id": "f2fe6d64",
   "metadata": {},
   "outputs": [
    {
     "data": {
      "text/plain": [
       "array([[1.        , 0.60037118],\n",
       "       [0.60037118, 1.        ]])"
      ]
     },
     "execution_count": 57,
     "metadata": {},
     "output_type": "execute_result"
    }
   ],
   "source": [
    "corrcoef(t.YearRemodAdd,t.YearBuilt)"
   ]
  },
  {
   "cell_type": "code",
   "execution_count": 58,
   "id": "e453c7e6",
   "metadata": {},
   "outputs": [
    {
     "data": {
      "text/plain": [
       "Gable      1015\n",
       "Hip         250\n",
       "Gambrel      11\n",
       "Mansard       7\n",
       "Flat          5\n",
       "Name: RoofStyle, dtype: int64"
      ]
     },
     "execution_count": 58,
     "metadata": {},
     "output_type": "execute_result"
    }
   ],
   "source": [
    "t.RoofStyle.value_counts()"
   ]
  },
  {
   "cell_type": "code",
   "execution_count": 59,
   "id": "fe5bdead",
   "metadata": {},
   "outputs": [],
   "source": [
    "t['RoofStyle']=LabelEncoder().fit_transform(t.RoofStyle)"
   ]
  },
  {
   "cell_type": "code",
   "execution_count": 60,
   "id": "c8088d03",
   "metadata": {},
   "outputs": [
    {
     "data": {
      "text/plain": [
       "CompShg    1276\n",
       "Tar&Grv       5\n",
       "WdShake       4\n",
       "WdShngl       2\n",
       "Roll          1\n",
       "Name: RoofMatl, dtype: int64"
      ]
     },
     "execution_count": 60,
     "metadata": {},
     "output_type": "execute_result"
    }
   ],
   "source": [
    "t.RoofMatl.value_counts()"
   ]
  },
  {
   "cell_type": "code",
   "execution_count": 61,
   "id": "a98c994e",
   "metadata": {},
   "outputs": [],
   "source": [
    "t.drop('RoofMatl',axis=1,inplace=True)"
   ]
  },
  {
   "cell_type": "code",
   "execution_count": 62,
   "id": "b40e2b22",
   "metadata": {},
   "outputs": [
    {
     "data": {
      "text/plain": [
       "(15,)"
      ]
     },
     "execution_count": 62,
     "metadata": {},
     "output_type": "execute_result"
    }
   ],
   "source": [
    "t.Exterior1st.value_counts().shape"
   ]
  },
  {
   "cell_type": "code",
   "execution_count": 63,
   "id": "81a5a7af",
   "metadata": {},
   "outputs": [
    {
     "data": {
      "text/plain": [
       "(16,)"
      ]
     },
     "execution_count": 63,
     "metadata": {},
     "output_type": "execute_result"
    }
   ],
   "source": [
    "t.Exterior2nd.value_counts().shape"
   ]
  },
  {
   "cell_type": "code",
   "execution_count": 64,
   "id": "d67e4e64",
   "metadata": {},
   "outputs": [],
   "source": [
    "t.drop('Exterior1st',axis=1,inplace=True)"
   ]
  },
  {
   "cell_type": "code",
   "execution_count": 65,
   "id": "b9f2e67f",
   "metadata": {},
   "outputs": [],
   "source": [
    "t.Exterior2nd=LabelEncoder().fit_transform(t.Exterior2nd)"
   ]
  },
  {
   "cell_type": "code",
   "execution_count": 66,
   "id": "2ec79c37",
   "metadata": {},
   "outputs": [
    {
     "data": {
      "text/plain": [
       "None       769\n",
       "BrkFace    388\n",
       "Stone      112\n",
       "BrkCmn      12\n",
       "Name: MasVnrType, dtype: int64"
      ]
     },
     "execution_count": 66,
     "metadata": {},
     "output_type": "execute_result"
    }
   ],
   "source": [
    "t.MasVnrType.value_counts()"
   ]
  },
  {
   "cell_type": "code",
   "execution_count": 67,
   "id": "ece36ed5",
   "metadata": {},
   "outputs": [
    {
     "data": {
      "text/plain": [
       "0.0      768\n",
       "180.0      8\n",
       "108.0      8\n",
       "72.0       8\n",
       "200.0      6\n",
       "        ... \n",
       "209.0      1\n",
       "472.0      1\n",
       "263.0      1\n",
       "436.0      1\n",
       "119.0      1\n",
       "Name: MasVnrArea, Length: 294, dtype: int64"
      ]
     },
     "execution_count": 67,
     "metadata": {},
     "output_type": "execute_result"
    }
   ],
   "source": [
    "t.MasVnrArea.value_counts()"
   ]
  },
  {
   "cell_type": "code",
   "execution_count": 68,
   "id": "a9010ce0",
   "metadata": {},
   "outputs": [],
   "source": [
    "t.drop('MasVnrArea',axis=1,inplace=True)"
   ]
  },
  {
   "cell_type": "code",
   "execution_count": 69,
   "id": "34f7bbe2",
   "metadata": {},
   "outputs": [],
   "source": [
    "t.MasVnrType=LabelEncoder().fit_transform(t.MasVnrType)"
   ]
  },
  {
   "cell_type": "code",
   "execution_count": 70,
   "id": "91564fdc",
   "metadata": {},
   "outputs": [
    {
     "data": {
      "text/plain": [
       "TA    805\n",
       "Gd    426\n",
       "Ex     45\n",
       "Fa     12\n",
       "Name: ExterQual, dtype: int64"
      ]
     },
     "execution_count": 70,
     "metadata": {},
     "output_type": "execute_result"
    }
   ],
   "source": [
    "t.ExterQual.value_counts()"
   ]
  },
  {
   "cell_type": "code",
   "execution_count": 71,
   "id": "fc9493aa",
   "metadata": {},
   "outputs": [
    {
     "data": {
      "text/plain": [
       "TA    1133\n",
       "Gd     124\n",
       "Fa      27\n",
       "Ex       3\n",
       "Po       1\n",
       "Name: ExterCond, dtype: int64"
      ]
     },
     "execution_count": 71,
     "metadata": {},
     "output_type": "execute_result"
    }
   ],
   "source": [
    "t.ExterCond.value_counts()"
   ]
  },
  {
   "cell_type": "code",
   "execution_count": 72,
   "id": "c8565796",
   "metadata": {},
   "outputs": [],
   "source": [
    "t.drop('ExterQual',axis=1,inplace=True)"
   ]
  },
  {
   "cell_type": "code",
   "execution_count": 73,
   "id": "92d28e78",
   "metadata": {},
   "outputs": [],
   "source": [
    "t.ExterCond=LabelEncoder().fit_transform(t.ExterCond)"
   ]
  },
  {
   "cell_type": "code",
   "execution_count": 74,
   "id": "6155a2e5",
   "metadata": {},
   "outputs": [
    {
     "data": {
      "text/plain": [
       "PConc     579\n",
       "CBlock    541\n",
       "BrkTil    137\n",
       "Slab       23\n",
       "Stone       6\n",
       "Wood        2\n",
       "Name: Foundation, dtype: int64"
      ]
     },
     "execution_count": 74,
     "metadata": {},
     "output_type": "execute_result"
    }
   ],
   "source": [
    "t.Foundation.value_counts()"
   ]
  },
  {
   "cell_type": "code",
   "execution_count": 75,
   "id": "89bd4c10",
   "metadata": {},
   "outputs": [],
   "source": [
    "t.Foundation=LabelEncoder().fit_transform(t.Foundation)"
   ]
  },
  {
   "cell_type": "code",
   "execution_count": 76,
   "id": "0583385a",
   "metadata": {},
   "outputs": [
    {
     "data": {
      "text/plain": [
       "TA    581\n",
       "Gd    539\n",
       "Ex    100\n",
       "Fa     33\n",
       "Name: BsmtQual, dtype: int64"
      ]
     },
     "execution_count": 76,
     "metadata": {},
     "output_type": "execute_result"
    }
   ],
   "source": [
    "t.BsmtQual.value_counts()"
   ]
  },
  {
   "cell_type": "code",
   "execution_count": 77,
   "id": "d0f0100f",
   "metadata": {},
   "outputs": [
    {
     "data": {
      "text/plain": [
       "TA    1154\n",
       "Gd      56\n",
       "Fa      41\n",
       "Po       2\n",
       "Name: BsmtCond, dtype: int64"
      ]
     },
     "execution_count": 77,
     "metadata": {},
     "output_type": "execute_result"
    }
   ],
   "source": [
    "t.BsmtCond.value_counts()"
   ]
  },
  {
   "cell_type": "code",
   "execution_count": 78,
   "id": "ae9488b5",
   "metadata": {},
   "outputs": [],
   "source": [
    "t.BsmtQual=LabelEncoder().fit_transform(t.BsmtQual)\n",
    "t.BsmtCond=LabelEncoder().fit_transform(t.BsmtCond)"
   ]
  },
  {
   "cell_type": "code",
   "execution_count": 79,
   "id": "19618c08",
   "metadata": {},
   "outputs": [],
   "source": [
    "t=t[t.BsmtCond!=2]"
   ]
  },
  {
   "cell_type": "code",
   "execution_count": 80,
   "id": "ad57fabe",
   "metadata": {},
   "outputs": [
    {
     "data": {
      "text/plain": [
       "array([[1.        , 0.07364635],\n",
       "       [0.07364635, 1.        ]])"
      ]
     },
     "execution_count": 80,
     "metadata": {},
     "output_type": "execute_result"
    }
   ],
   "source": [
    "corrcoef(t.BsmtCond,t.BsmtQual)"
   ]
  },
  {
   "cell_type": "code",
   "execution_count": 81,
   "id": "52231867",
   "metadata": {},
   "outputs": [
    {
     "data": {
      "text/plain": [
       "No    857\n",
       "Av    189\n",
       "Gd    102\n",
       "Mn    102\n",
       "Name: BsmtExposure, dtype: int64"
      ]
     },
     "execution_count": 81,
     "metadata": {},
     "output_type": "execute_result"
    }
   ],
   "source": [
    "t.BsmtExposure.value_counts()"
   ]
  },
  {
   "cell_type": "code",
   "execution_count": 82,
   "id": "d6f4681a",
   "metadata": {},
   "outputs": [],
   "source": [
    "t.BsmtExposure=LabelEncoder().fit_transform(t.BsmtExposure)"
   ]
  },
  {
   "cell_type": "code",
   "execution_count": 83,
   "id": "10c2b466",
   "metadata": {},
   "outputs": [],
   "source": [
    "t.drop(['BsmtFinType2','BsmtFinSF2'],axis=1,inplace=True)"
   ]
  },
  {
   "cell_type": "code",
   "execution_count": 84,
   "id": "dcf6474a",
   "metadata": {},
   "outputs": [
    {
     "data": {
      "text/plain": [
       "Unf    379\n",
       "GLQ    370\n",
       "ALQ    191\n",
       "BLQ    126\n",
       "Rec    121\n",
       "LwQ     64\n",
       "Name: BsmtFinType1, dtype: int64"
      ]
     },
     "execution_count": 84,
     "metadata": {},
     "output_type": "execute_result"
    }
   ],
   "source": [
    "t.BsmtFinType1.value_counts()"
   ]
  },
  {
   "cell_type": "code",
   "execution_count": 85,
   "id": "332d4bd6",
   "metadata": {},
   "outputs": [],
   "source": [
    "t.BsmtFinType1.fillna('Unf',inplace=True)"
   ]
  },
  {
   "cell_type": "code",
   "execution_count": 86,
   "id": "6bcc9b64",
   "metadata": {},
   "outputs": [],
   "source": [
    "t.BsmtFinType1=LabelEncoder().fit_transform(t.BsmtFinType1)"
   ]
  },
  {
   "cell_type": "code",
   "execution_count": 87,
   "id": "e5ecac4d",
   "metadata": {},
   "outputs": [
    {
     "data": {
      "text/plain": [
       "GasA     1257\n",
       "GasW       16\n",
       "Grav        6\n",
       "Wall        4\n",
       "OthW        2\n",
       "Floor       1\n",
       "Name: Heating, dtype: int64"
      ]
     },
     "execution_count": 87,
     "metadata": {},
     "output_type": "execute_result"
    }
   ],
   "source": [
    "t.Heating.value_counts()"
   ]
  },
  {
   "cell_type": "code",
   "execution_count": 88,
   "id": "f6eb102c",
   "metadata": {},
   "outputs": [],
   "source": [
    "t.drop(['Heating'],axis=1,inplace=True)"
   ]
  },
  {
   "cell_type": "code",
   "execution_count": 89,
   "id": "1113acf4",
   "metadata": {},
   "outputs": [
    {
     "data": {
      "text/plain": [
       "Ex    655\n",
       "TA    370\n",
       "Gd    218\n",
       "Fa     42\n",
       "Po      1\n",
       "Name: HeatingQC, dtype: int64"
      ]
     },
     "execution_count": 89,
     "metadata": {},
     "output_type": "execute_result"
    }
   ],
   "source": [
    "t.HeatingQC.value_counts()"
   ]
  },
  {
   "cell_type": "code",
   "execution_count": 90,
   "id": "e705e7e8",
   "metadata": {},
   "outputs": [],
   "source": [
    "t=t[t.HeatingQC!='Po']"
   ]
  },
  {
   "cell_type": "code",
   "execution_count": 91,
   "id": "3ebbd151",
   "metadata": {},
   "outputs": [],
   "source": [
    "t.HeatingQC=LabelEncoder().fit_transform(t.HeatingQC)"
   ]
  },
  {
   "cell_type": "code",
   "execution_count": 92,
   "id": "33f80890",
   "metadata": {},
   "outputs": [
    {
     "data": {
      "text/plain": [
       "Y    1197\n",
       "N      88\n",
       "Name: CentralAir, dtype: int64"
      ]
     },
     "execution_count": 92,
     "metadata": {},
     "output_type": "execute_result"
    }
   ],
   "source": [
    "t.CentralAir.value_counts()"
   ]
  },
  {
   "cell_type": "code",
   "execution_count": 93,
   "id": "e27bc9a4",
   "metadata": {},
   "outputs": [],
   "source": [
    "t.CentralAir=LabelEncoder().fit_transform(t.CentralAir)"
   ]
  },
  {
   "cell_type": "code",
   "execution_count": 94,
   "id": "417c138d",
   "metadata": {},
   "outputs": [],
   "source": [
    "t.dropna(inplace=True)"
   ]
  },
  {
   "cell_type": "code",
   "execution_count": 95,
   "id": "c8a08514",
   "metadata": {},
   "outputs": [
    {
     "data": {
      "text/plain": [
       "SBrkr    1114\n",
       "FuseA      77\n",
       "FuseF      21\n",
       "FuseP       1\n",
       "Name: Electrical, dtype: int64"
      ]
     },
     "execution_count": 95,
     "metadata": {},
     "output_type": "execute_result"
    }
   ],
   "source": [
    "t.Electrical.value_counts()"
   ]
  },
  {
   "cell_type": "code",
   "execution_count": 96,
   "id": "245ab727",
   "metadata": {},
   "outputs": [],
   "source": [
    "t=t[t.Electrical!='FuseP']"
   ]
  },
  {
   "cell_type": "code",
   "execution_count": 97,
   "id": "0a2d440f",
   "metadata": {},
   "outputs": [],
   "source": [
    "t.Electrical=LabelEncoder().fit_transform(t.Electrical)"
   ]
  },
  {
   "cell_type": "code",
   "execution_count": 98,
   "id": "5e65d380",
   "metadata": {},
   "outputs": [
    {
     "data": {
      "text/plain": [
       "0        856\n",
       "1       1262\n",
       "2        920\n",
       "3        961\n",
       "4       1145\n",
       "        ... \n",
       "1455     953\n",
       "1456    2073\n",
       "1457    1188\n",
       "1458    1078\n",
       "1459    1256\n",
       "Name: 1stFlrSF, Length: 1212, dtype: int64"
      ]
     },
     "execution_count": 98,
     "metadata": {},
     "output_type": "execute_result"
    }
   ],
   "source": [
    "t['1stFlrSF']"
   ]
  },
  {
   "cell_type": "code",
   "execution_count": 99,
   "id": "93a22faa",
   "metadata": {},
   "outputs": [
    {
     "data": {
      "text/plain": [
       "[188.5, 2090.5]"
      ]
     },
     "execution_count": 99,
     "metadata": {},
     "output_type": "execute_result"
    }
   ],
   "source": [
    "l=per(t['1stFlrSF'])\n",
    "l"
   ]
  },
  {
   "cell_type": "code",
   "execution_count": 100,
   "id": "4f85400c",
   "metadata": {},
   "outputs": [],
   "source": [
    "t=t[t['1stFlrSF']>188.5]\n",
    "t=t[t['1stFlrSF']<2090.5]"
   ]
  },
  {
   "cell_type": "code",
   "execution_count": 101,
   "id": "e5537f5b",
   "metadata": {},
   "outputs": [],
   "source": [
    "t['1stFlrSF']=s.fit_transform(array(t['1stFlrSF']).reshape(-1,1))"
   ]
  },
  {
   "cell_type": "code",
   "execution_count": 102,
   "id": "72a7bde1",
   "metadata": {},
   "outputs": [
    {
     "data": {
      "text/plain": [
       "<AxesSubplot:xlabel='1stFlrSF'>"
      ]
     },
     "execution_count": 102,
     "metadata": {},
     "output_type": "execute_result"
    },
    {
     "data": {
      "image/png": "[encoded data removed]",
      "text/plain": [
       "<Figure size 640x480 with 1 Axes>"
      ]
     },
     "metadata": {},
     "output_type": "display_data"
    }
   ],
   "source": [
    "boxplot(t['1stFlrSF'])"
   ]
  },
  {
   "cell_type": "code",
   "execution_count": 103,
   "id": "18881957",
   "metadata": {},
   "outputs": [
    {
     "data": {
      "text/plain": [
       "<AxesSubplot:xlabel='1stFlrSF'>"
      ]
     },
     "execution_count": 103,
     "metadata": {},
     "output_type": "execute_result"
    },
    {
     "data": {
      "image/png": "[encoded data removed]",
      "text/plain": [
       "<Figure size 640x480 with 1 Axes>"
      ]
     },
     "metadata": {},
     "output_type": "display_data"
    }
   ],
   "source": [
    "lineplot(t['1stFlrSF'],pdf(t['1stFlrSF']),marker='>')"
   ]
  },
  {
   "cell_type": "code",
   "execution_count": 104,
   "id": "446eedc2",
   "metadata": {},
   "outputs": [
    {
     "data": {
      "text/plain": [
       "0       691\n",
       "728      10\n",
       "689       5\n",
       "720       5\n",
       "862       5\n",
       "       ... \n",
       "600       1\n",
       "745       1\n",
       "812       1\n",
       "595       1\n",
       "1152      1\n",
       "Name: 2ndFlrSF, Length: 360, dtype: int64"
      ]
     },
     "execution_count": 104,
     "metadata": {},
     "output_type": "execute_result"
    }
   ],
   "source": [
    "t['2ndFlrSF'].value_counts()"
   ]
  },
  {
   "cell_type": "code",
   "execution_count": 105,
   "id": "d1348deb",
   "metadata": {},
   "outputs": [],
   "source": [
    "t.drop(['2ndFlrSF'],axis=1,inplace=True)"
   ]
  },
  {
   "cell_type": "code",
   "execution_count": 106,
   "id": "e239605b",
   "metadata": {},
   "outputs": [
    {
     "data": {
      "text/plain": [
       "0      1181\n",
       "360       2\n",
       "528       1\n",
       "144       1\n",
       "390       1\n",
       "420       1\n",
       "473       1\n",
       "156       1\n",
       "53        1\n",
       "232       1\n",
       "481       1\n",
       "120       1\n",
       "397       1\n",
       "384       1\n",
       "Name: LowQualFinSF, dtype: int64"
      ]
     },
     "execution_count": 106,
     "metadata": {},
     "output_type": "execute_result"
    }
   ],
   "source": [
    "t.LowQualFinSF.value_counts()"
   ]
  },
  {
   "cell_type": "code",
   "execution_count": 107,
   "id": "6d435ce0",
   "metadata": {},
   "outputs": [],
   "source": [
    "t.drop(['LowQualFinSF'],axis=1,inplace=True)"
   ]
  },
  {
   "cell_type": "code",
   "execution_count": 108,
   "id": "9aece4a1",
   "metadata": {},
   "outputs": [
    {
     "data": {
      "text/plain": [
       "0       1710\n",
       "1       1262\n",
       "2       1786\n",
       "3       1717\n",
       "4       2198\n",
       "        ... \n",
       "1455    1647\n",
       "1456    2073\n",
       "1457    2340\n",
       "1458    1078\n",
       "1459    1256\n",
       "Name: GrLivArea, Length: 1195, dtype: int64"
      ]
     },
     "execution_count": 108,
     "metadata": {},
     "output_type": "execute_result"
    }
   ],
   "source": [
    "t.GrLivArea"
   ]
  },
  {
   "cell_type": "code",
   "execution_count": 109,
   "id": "007651ec",
   "metadata": {},
   "outputs": [
    {
     "data": {
      "text/plain": [
       "[216.25, 2670.25]"
      ]
     },
     "execution_count": 109,
     "metadata": {},
     "output_type": "execute_result"
    }
   ],
   "source": [
    "l=per(t.GrLivArea)\n",
    "l"
   ]
  },
  {
   "cell_type": "code",
   "execution_count": 110,
   "id": "3291b6e9",
   "metadata": {},
   "outputs": [],
   "source": [
    "t=t[t.GrLivArea>216.25]\n",
    "t=t[t.GrLivArea<2670.25]"
   ]
  },
  {
   "cell_type": "code",
   "execution_count": 111,
   "id": "020f86dc",
   "metadata": {},
   "outputs": [],
   "source": [
    "t.GrLivArea=s.fit_transform(array(t.GrLivArea).reshape(-1,1))"
   ]
  },
  {
   "cell_type": "code",
   "execution_count": 112,
   "id": "0bd47425",
   "metadata": {},
   "outputs": [
    {
     "data": {
      "text/plain": [
       "<AxesSubplot:xlabel='GrLivArea'>"
      ]
     },
     "execution_count": 112,
     "metadata": {},
     "output_type": "execute_result"
    },
    {
     "data": {
      "image/png": "[encoded data removed]",
      "text/plain": [
       "<Figure size 640x480 with 1 Axes>"
      ]
     },
     "metadata": {},
     "output_type": "display_data"
    }
   ],
   "source": [
    "boxplot(t.GrLivArea)"
   ]
  },
  {
   "cell_type": "code",
   "execution_count": 113,
   "id": "57acf188",
   "metadata": {},
   "outputs": [
    {
     "data": {
      "text/plain": [
       "<AxesSubplot:xlabel='GrLivArea'>"
      ]
     },
     "execution_count": 113,
     "metadata": {},
     "output_type": "execute_result"
    },
    {
     "data": {
      "image/png": "[encoded data removed]",
      "text/plain": [
       "<Figure size 640x480 with 1 Axes>"
      ]
     },
     "metadata": {},
     "output_type": "display_data"
    }
   ],
   "source": [
    "lineplot(t['GrLivArea'],pdf(t['GrLivArea']),marker='>')"
   ]
  },
  {
   "cell_type": "code",
   "execution_count": 114,
   "id": "699d209b",
   "metadata": {},
   "outputs": [
    {
     "data": {
      "text/plain": [
       "0    687\n",
       "1    480\n",
       "2      6\n",
       "Name: BsmtFullBath, dtype: int64"
      ]
     },
     "execution_count": 114,
     "metadata": {},
     "output_type": "execute_result"
    }
   ],
   "source": [
    "t.BsmtFullBath.value_counts()"
   ]
  },
  {
   "cell_type": "code",
   "execution_count": 115,
   "id": "8f640deb",
   "metadata": {},
   "outputs": [],
   "source": [
    "t=t[t.BsmtFullBath!=2]"
   ]
  },
  {
   "cell_type": "code",
   "execution_count": 116,
   "id": "e23c92c2",
   "metadata": {},
   "outputs": [
    {
     "data": {
      "text/plain": [
       "0    1098\n",
       "1      68\n",
       "2       1\n",
       "Name: BsmtHalfBath, dtype: int64"
      ]
     },
     "execution_count": 116,
     "metadata": {},
     "output_type": "execute_result"
    }
   ],
   "source": [
    "t.BsmtHalfBath.value_counts()"
   ]
  },
  {
   "cell_type": "code",
   "execution_count": 117,
   "id": "5378f41d",
   "metadata": {},
   "outputs": [],
   "source": [
    "t=t[t.BsmtHalfBath!=2]"
   ]
  },
  {
   "cell_type": "code",
   "execution_count": 118,
   "id": "b42608d7",
   "metadata": {},
   "outputs": [
    {
     "data": {
      "text/plain": [
       "2    618\n",
       "1    536\n",
       "3     10\n",
       "0      2\n",
       "Name: FullBath, dtype: int64"
      ]
     },
     "execution_count": 118,
     "metadata": {},
     "output_type": "execute_result"
    }
   ],
   "source": [
    "t.FullBath.value_counts()"
   ]
  },
  {
   "cell_type": "code",
   "execution_count": 119,
   "id": "a5dd8640",
   "metadata": {},
   "outputs": [],
   "source": [
    "t=t[t.FullBath!=3]\n",
    "t=t[t.FullBath!=0]"
   ]
  },
  {
   "cell_type": "code",
   "execution_count": 120,
   "id": "663f5a22",
   "metadata": {},
   "outputs": [
    {
     "data": {
      "text/plain": [
       "0    741\n",
       "1    408\n",
       "2      5\n",
       "Name: HalfBath, dtype: int64"
      ]
     },
     "execution_count": 120,
     "metadata": {},
     "output_type": "execute_result"
    }
   ],
   "source": [
    "t.HalfBath.value_counts()"
   ]
  },
  {
   "cell_type": "code",
   "execution_count": 121,
   "id": "6cf4c517",
   "metadata": {},
   "outputs": [],
   "source": [
    "t=t[t.HalfBath!=2]"
   ]
  },
  {
   "cell_type": "code",
   "execution_count": 122,
   "id": "b9f098a7",
   "metadata": {},
   "outputs": [
    {
     "data": {
      "text/plain": [
       "3    677\n",
       "2    286\n",
       "4    137\n",
       "1     34\n",
       "5     10\n",
       "6      4\n",
       "0      1\n",
       "Name: BedroomAbvGr, dtype: int64"
      ]
     },
     "execution_count": 122,
     "metadata": {},
     "output_type": "execute_result"
    }
   ],
   "source": [
    "t.BedroomAbvGr.value_counts()"
   ]
  },
  {
   "cell_type": "code",
   "execution_count": 123,
   "id": "b658f742",
   "metadata": {},
   "outputs": [],
   "source": [
    "t=t[t.BedroomAbvGr!=0]\n",
    "t=t[t.BedroomAbvGr!=6]"
   ]
  },
  {
   "cell_type": "code",
   "execution_count": 124,
   "id": "ba14a854",
   "metadata": {},
   "outputs": [
    {
     "data": {
      "text/plain": [
       "1    1107\n",
       "2      36\n",
       "3       1\n",
       "Name: KitchenAbvGr, dtype: int64"
      ]
     },
     "execution_count": 124,
     "metadata": {},
     "output_type": "execute_result"
    }
   ],
   "source": [
    "t.KitchenAbvGr.value_counts()"
   ]
  },
  {
   "cell_type": "code",
   "execution_count": 125,
   "id": "fee71fa0",
   "metadata": {},
   "outputs": [],
   "source": [
    "t=t[t.KitchenAbvGr!=2]\n",
    "t=t[t.KitchenAbvGr!=3]\n",
    "t.drop(['KitchenAbvGr'],axis=1,inplace=True)"
   ]
  },
  {
   "cell_type": "code",
   "execution_count": 126,
   "id": "5b68e7df",
   "metadata": {},
   "outputs": [
    {
     "data": {
      "text/plain": [
       "TA    537\n",
       "Gd    485\n",
       "Ex     64\n",
       "Fa     21\n",
       "Name: KitchenQual, dtype: int64"
      ]
     },
     "execution_count": 126,
     "metadata": {},
     "output_type": "execute_result"
    }
   ],
   "source": [
    "t.KitchenQual.value_counts()"
   ]
  },
  {
   "cell_type": "code",
   "execution_count": 127,
   "id": "fa305b33",
   "metadata": {},
   "outputs": [],
   "source": [
    "t.KitchenQual=LabelEncoder().fit_transform(t.KitchenQual)"
   ]
  },
  {
   "cell_type": "code",
   "execution_count": 128,
   "id": "694b45e4",
   "metadata": {},
   "outputs": [
    {
     "data": {
      "text/plain": [
       "6     344\n",
       "7     264\n",
       "5     223\n",
       "8     132\n",
       "4      69\n",
       "9      43\n",
       "10     20\n",
       "3       9\n",
       "11      3\n",
       "Name: TotRmsAbvGrd, dtype: int64"
      ]
     },
     "execution_count": 128,
     "metadata": {},
     "output_type": "execute_result"
    }
   ],
   "source": [
    "t.TotRmsAbvGrd.value_counts()"
   ]
  },
  {
   "cell_type": "code",
   "execution_count": 129,
   "id": "5f496222",
   "metadata": {},
   "outputs": [],
   "source": [
    "t=t[t.TotRmsAbvGrd!=11]\n",
    "t=t[t.TotRmsAbvGrd!=3]"
   ]
  },
  {
   "cell_type": "code",
   "execution_count": 130,
   "id": "525650e9",
   "metadata": {},
   "outputs": [
    {
     "data": {
      "text/plain": [
       "Typ     1033\n",
       "Min2      25\n",
       "Min1      23\n",
       "Mod        6\n",
       "Maj1       6\n",
       "Maj2       2\n",
       "Name: Functional, dtype: int64"
      ]
     },
     "execution_count": 130,
     "metadata": {},
     "output_type": "execute_result"
    }
   ],
   "source": [
    "t.Functional.value_counts()"
   ]
  },
  {
   "cell_type": "code",
   "execution_count": 131,
   "id": "2b243bb8",
   "metadata": {},
   "outputs": [],
   "source": [
    "t.Functional=LabelEncoder().fit_transform(t.Functional)"
   ]
  },
  {
   "cell_type": "code",
   "execution_count": 132,
   "id": "336cdf74",
   "metadata": {},
   "outputs": [
    {
     "data": {
      "text/plain": [
       "1    522\n",
       "0    511\n",
       "2     59\n",
       "3      3\n",
       "Name: Fireplaces, dtype: int64"
      ]
     },
     "execution_count": 132,
     "metadata": {},
     "output_type": "execute_result"
    }
   ],
   "source": [
    "t.Fireplaces.value_counts()"
   ]
  },
  {
   "cell_type": "code",
   "execution_count": 133,
   "id": "f7ebb99c",
   "metadata": {},
   "outputs": [],
   "source": [
    "t=t[t.Fireplaces!=3]"
   ]
  },
  {
   "cell_type": "code",
   "execution_count": 134,
   "id": "e394a80f",
   "metadata": {},
   "outputs": [
    {
     "data": {
      "text/plain": [
       "Attchd     710\n",
       "Detchd     307\n",
       "BuiltIn     58\n",
       "Basment     13\n",
       "CarPort      3\n",
       "2Types       1\n",
       "Name: GarageType, dtype: int64"
      ]
     },
     "execution_count": 134,
     "metadata": {},
     "output_type": "execute_result"
    }
   ],
   "source": [
    "t.GarageType.value_counts()"
   ]
  },
  {
   "cell_type": "code",
   "execution_count": 135,
   "id": "cd03698b",
   "metadata": {},
   "outputs": [],
   "source": [
    "t=t[t.GarageType!='2Types']\n",
    "t=t[t.GarageType!='CarPort']"
   ]
  },
  {
   "cell_type": "code",
   "execution_count": 136,
   "id": "f973e593",
   "metadata": {},
   "outputs": [],
   "source": [
    "t.GarageType=LabelEncoder().fit_transform(t.GarageType)"
   ]
  },
  {
   "cell_type": "code",
   "execution_count": 137,
   "id": "45ea8923",
   "metadata": {},
   "outputs": [],
   "source": [
    "t.GarageYrBlt=t.GarageYrBlt-min(t.GarageYrBlt)"
   ]
  },
  {
   "cell_type": "code",
   "execution_count": 138,
   "id": "4b7f2d60",
   "metadata": {},
   "outputs": [],
   "source": [
    "t.GarageYrBlt=s.fit_transform(array(t.GarageYrBlt).reshape(-1,1))"
   ]
  },
  {
   "cell_type": "code",
   "execution_count": 139,
   "id": "e3cbcf7f",
   "metadata": {},
   "outputs": [
    {
     "data": {
      "text/plain": [
       "Unf    465\n",
       "RFn    361\n",
       "Fin    262\n",
       "Name: GarageFinish, dtype: int64"
      ]
     },
     "execution_count": 139,
     "metadata": {},
     "output_type": "execute_result"
    }
   ],
   "source": [
    "t.GarageFinish.value_counts()"
   ]
  },
  {
   "cell_type": "code",
   "execution_count": 140,
   "id": "05dee417",
   "metadata": {},
   "outputs": [],
   "source": [
    "t.GarageFinish=LabelEncoder().fit_transform(t.GarageFinish)"
   ]
  },
  {
   "cell_type": "code",
   "execution_count": 141,
   "id": "e2b5f7af",
   "metadata": {},
   "outputs": [
    {
     "data": {
      "text/plain": [
       "2    638\n",
       "1    324\n",
       "3    124\n",
       "4      2\n",
       "Name: GarageCars, dtype: int64"
      ]
     },
     "execution_count": 141,
     "metadata": {},
     "output_type": "execute_result"
    }
   ],
   "source": [
    "t.GarageCars.value_counts()"
   ]
  },
  {
   "cell_type": "code",
   "execution_count": 142,
   "id": "451321f9",
   "metadata": {},
   "outputs": [],
   "source": [
    "t=t[t.GarageCars!=4]"
   ]
  },
  {
   "cell_type": "code",
   "execution_count": 143,
   "id": "e676439a",
   "metadata": {},
   "outputs": [
    {
     "data": {
      "text/plain": [
       "0       548\n",
       "1       460\n",
       "2       608\n",
       "3       642\n",
       "4       836\n",
       "       ... \n",
       "1455    460\n",
       "1456    500\n",
       "1457    252\n",
       "1458    240\n",
       "1459    276\n",
       "Name: GarageArea, Length: 1086, dtype: int64"
      ]
     },
     "execution_count": 143,
     "metadata": {},
     "output_type": "execute_result"
    }
   ],
   "source": [
    "t.GarageArea"
   ]
  },
  {
   "cell_type": "code",
   "execution_count": 144,
   "id": "989ed07a",
   "metadata": {},
   "outputs": [
    {
     "data": {
      "text/plain": [
       "[16.0, 912.0]"
      ]
     },
     "execution_count": 144,
     "metadata": {},
     "output_type": "execute_result"
    }
   ],
   "source": [
    "l=per(t.GarageArea)\n",
    "l"
   ]
  },
  {
   "cell_type": "code",
   "execution_count": 145,
   "id": "e3b0ef0b",
   "metadata": {},
   "outputs": [],
   "source": [
    "t=t[t.GarageArea>16]\n",
    "t=t[t.GarageArea<912]"
   ]
  },
  {
   "cell_type": "code",
   "execution_count": 146,
   "id": "d694340a",
   "metadata": {},
   "outputs": [],
   "source": [
    "t.GarageArea=s.fit_transform(array(t.GarageArea).reshape(-1,1))"
   ]
  },
  {
   "cell_type": "code",
   "execution_count": 147,
   "id": "2979d6a9",
   "metadata": {},
   "outputs": [
    {
     "data": {
      "text/plain": [
       "<AxesSubplot:xlabel='GarageArea'>"
      ]
     },
     "execution_count": 147,
     "metadata": {},
     "output_type": "execute_result"
    },
    {
     "data": {
      "image/png": "[encoded data removed]",
      "text/plain": [
       "<Figure size 640x480 with 1 Axes>"
      ]
     },
     "metadata": {},
     "output_type": "display_data"
    }
   ],
   "source": [
    "boxplot(t.GarageArea)"
   ]
  },
  {
   "cell_type": "code",
   "execution_count": 148,
   "id": "be357f46",
   "metadata": {},
   "outputs": [
    {
     "data": {
      "text/plain": [
       "<AxesSubplot:xlabel='GarageArea'>"
      ]
     },
     "execution_count": 148,
     "metadata": {},
     "output_type": "execute_result"
    },
    {
     "data": {
      "image/png": "[encoded data removed]",
      "text/plain": [
       "<Figure size 640x480 with 1 Axes>"
      ]
     },
     "metadata": {},
     "output_type": "display_data"
    }
   ],
   "source": [
    "lineplot(t.GarageArea,pdf(t.GarageArea),marker='<')"
   ]
  },
  {
   "cell_type": "code",
   "execution_count": 149,
   "id": "74666add",
   "metadata": {},
   "outputs": [
    {
     "data": {
      "text/plain": [
       "TA    1022\n",
       "Fa      40\n",
       "Gd       7\n",
       "Po       1\n",
       "Ex       1\n",
       "Name: GarageQual, dtype: int64"
      ]
     },
     "execution_count": 149,
     "metadata": {},
     "output_type": "execute_result"
    }
   ],
   "source": [
    "t.GarageQual.value_counts()"
   ]
  },
  {
   "cell_type": "code",
   "execution_count": 150,
   "id": "5da044aa",
   "metadata": {},
   "outputs": [],
   "source": [
    "t=t[t.GarageQual!='Po']\n",
    "t=t[t.GarageQual!='Ex']\n",
    "t=t[t.GarageQual!='Gd']"
   ]
  },
  {
   "cell_type": "code",
   "execution_count": 151,
   "id": "1d4fc65a",
   "metadata": {},
   "outputs": [],
   "source": [
    "t.GarageQual=LabelEncoder().fit_transform(t.GarageQual)"
   ]
  },
  {
   "cell_type": "code",
   "execution_count": 152,
   "id": "007e540c",
   "metadata": {},
   "outputs": [
    {
     "data": {
      "text/plain": [
       "TA    1024\n",
       "Fa      30\n",
       "Gd       5\n",
       "Po       3\n",
       "Name: GarageCond, dtype: int64"
      ]
     },
     "execution_count": 152,
     "metadata": {},
     "output_type": "execute_result"
    }
   ],
   "source": [
    "t.GarageCond.value_counts()"
   ]
  },
  {
   "cell_type": "code",
   "execution_count": 153,
   "id": "c8be4ff8",
   "metadata": {},
   "outputs": [],
   "source": [
    "t.drop(['GarageCond'],axis=1,inplace=True)"
   ]
  },
  {
   "cell_type": "code",
   "execution_count": 154,
   "id": "3de8627f",
   "metadata": {},
   "outputs": [
    {
     "data": {
      "text/plain": [
       "Y    1004\n",
       "N      38\n",
       "P      20\n",
       "Name: PavedDrive, dtype: int64"
      ]
     },
     "execution_count": 154,
     "metadata": {},
     "output_type": "execute_result"
    }
   ],
   "source": [
    "t.PavedDrive.value_counts()"
   ]
  },
  {
   "cell_type": "code",
   "execution_count": 155,
   "id": "0dc77a3e",
   "metadata": {},
   "outputs": [],
   "source": [
    "t.PavedDrive=LabelEncoder().fit_transform(t.PavedDrive)"
   ]
  },
  {
   "cell_type": "code",
   "execution_count": 156,
   "id": "c4a9bcfd",
   "metadata": {},
   "outputs": [
    {
     "data": {
      "text/plain": [
       "0      544\n",
       "192     32\n",
       "100     31\n",
       "144     27\n",
       "168     25\n",
       "      ... \n",
       "382      1\n",
       "179      1\n",
       "176      1\n",
       "390      1\n",
       "736      1\n",
       "Name: WoodDeckSF, Length: 216, dtype: int64"
      ]
     },
     "execution_count": 156,
     "metadata": {},
     "output_type": "execute_result"
    }
   ],
   "source": [
    "t.WoodDeckSF.value_counts()"
   ]
  },
  {
   "cell_type": "code",
   "execution_count": 157,
   "id": "c10a25a6",
   "metadata": {},
   "outputs": [],
   "source": [
    "t.WoodDeckSF=s.fit_transform(array(t.WoodDeckSF).reshape(-1,1))"
   ]
  },
  {
   "cell_type": "code",
   "execution_count": 158,
   "id": "dc782b69",
   "metadata": {},
   "outputs": [
    {
     "data": {
      "text/plain": [
       "0      460\n",
       "36      22\n",
       "20      19\n",
       "48      19\n",
       "45      15\n",
       "      ... \n",
       "134      1\n",
       "154      1\n",
       "195      1\n",
       "10       1\n",
       "169      1\n",
       "Name: OpenPorchSF, Length: 168, dtype: int64"
      ]
     },
     "execution_count": 158,
     "metadata": {},
     "output_type": "execute_result"
    }
   ],
   "source": [
    "t.OpenPorchSF.value_counts()"
   ]
  },
  {
   "cell_type": "code",
   "execution_count": 159,
   "id": "afdfa320",
   "metadata": {},
   "outputs": [],
   "source": [
    "t.OpenPorchSF=s.fit_transform(array(t.OpenPorchSF).reshape(-1,1))"
   ]
  },
  {
   "cell_type": "code",
   "execution_count": 160,
   "id": "4e348f93",
   "metadata": {},
   "outputs": [
    {
     "data": {
      "text/plain": [
       "0      914\n",
       "112     12\n",
       "96       5\n",
       "192      4\n",
       "120      4\n",
       "      ... \n",
       "64       1\n",
       "67       1\n",
       "56       1\n",
       "129      1\n",
       "99       1\n",
       "Name: EnclosedPorch, Length: 93, dtype: int64"
      ]
     },
     "execution_count": 160,
     "metadata": {},
     "output_type": "execute_result"
    }
   ],
   "source": [
    "t.EnclosedPorch.value_counts()"
   ]
  },
  {
   "cell_type": "code",
   "execution_count": 161,
   "id": "09f28c46",
   "metadata": {},
   "outputs": [],
   "source": [
    "t.EnclosedPorch=s.fit_transform(array(t.EnclosedPorch).reshape(-1,1))"
   ]
  },
  {
   "cell_type": "code",
   "execution_count": 162,
   "id": "94cb22e1",
   "metadata": {},
   "outputs": [
    {
     "data": {
      "text/plain": [
       "0      1045\n",
       "144       2\n",
       "168       2\n",
       "320       1\n",
       "407       1\n",
       "180       1\n",
       "140       1\n",
       "508       1\n",
       "238       1\n",
       "245       1\n",
       "196       1\n",
       "23        1\n",
       "216       1\n",
       "96        1\n",
       "153       1\n",
       "304       1\n",
       "Name: 3SsnPorch, dtype: int64"
      ]
     },
     "execution_count": 162,
     "metadata": {},
     "output_type": "execute_result"
    }
   ],
   "source": [
    "t['3SsnPorch'].value_counts()"
   ]
  },
  {
   "cell_type": "code",
   "execution_count": 163,
   "id": "3147ff5c",
   "metadata": {},
   "outputs": [],
   "source": [
    "t.drop(['3SsnPorch'],axis=1,inplace=True)"
   ]
  },
  {
   "cell_type": "code",
   "execution_count": 164,
   "id": "502efc5d",
   "metadata": {},
   "outputs": [
    {
     "data": {
      "text/plain": [
       "0      976\n",
       "192      5\n",
       "120      5\n",
       "180      4\n",
       "126      3\n",
       "      ... \n",
       "145      1\n",
       "200      1\n",
       "122      1\n",
       "260      1\n",
       "40       1\n",
       "Name: ScreenPorch, Length: 63, dtype: int64"
      ]
     },
     "execution_count": 164,
     "metadata": {},
     "output_type": "execute_result"
    }
   ],
   "source": [
    "t.ScreenPorch.value_counts()"
   ]
  },
  {
   "cell_type": "code",
   "execution_count": 165,
   "id": "f66608c4",
   "metadata": {},
   "outputs": [],
   "source": [
    "t.drop(['ScreenPorch'],axis=1,inplace=True)"
   ]
  },
  {
   "cell_type": "code",
   "execution_count": 166,
   "id": "43b420b0",
   "metadata": {},
   "outputs": [
    {
     "data": {
      "text/plain": [
       "0      1060\n",
       "648       1\n",
       "576       1\n",
       "Name: PoolArea, dtype: int64"
      ]
     },
     "execution_count": 166,
     "metadata": {},
     "output_type": "execute_result"
    }
   ],
   "source": [
    "t.PoolArea.value_counts()"
   ]
  },
  {
   "cell_type": "code",
   "execution_count": 167,
   "id": "e2d65b84",
   "metadata": {},
   "outputs": [],
   "source": [
    "t.drop(['PoolArea'],axis=1,inplace=True)"
   ]
  },
  {
   "cell_type": "code",
   "execution_count": 168,
   "id": "78e19413",
   "metadata": {},
   "outputs": [
    {
     "data": {
      "text/plain": [
       "0        1023\n",
       "400        10\n",
       "500         6\n",
       "700         4\n",
       "600         3\n",
       "480         2\n",
       "450         2\n",
       "1200        2\n",
       "2000        2\n",
       "54          1\n",
       "1400        1\n",
       "620         1\n",
       "800         1\n",
       "1300        1\n",
       "15500       1\n",
       "350         1\n",
       "2500        1\n",
       "Name: MiscVal, dtype: int64"
      ]
     },
     "execution_count": 168,
     "metadata": {},
     "output_type": "execute_result"
    }
   ],
   "source": [
    "t.MiscVal.value_counts()"
   ]
  },
  {
   "cell_type": "code",
   "execution_count": 169,
   "id": "704ba0c3",
   "metadata": {},
   "outputs": [],
   "source": [
    "t=t[t.MiscVal==0]\n",
    "t.drop(['MiscVal'],axis=1,inplace=True)"
   ]
  },
  {
   "cell_type": "code",
   "execution_count": 170,
   "id": "6bb8273f",
   "metadata": {},
   "outputs": [
    {
     "data": {
      "text/plain": [
       "0        2\n",
       "1        5\n",
       "2        9\n",
       "3        2\n",
       "4       12\n",
       "        ..\n",
       "1454    10\n",
       "1455     8\n",
       "1456     2\n",
       "1458     4\n",
       "1459     6\n",
       "Name: MoSold, Length: 1023, dtype: int64"
      ]
     },
     "execution_count": 170,
     "metadata": {},
     "output_type": "execute_result"
    }
   ],
   "source": [
    "t.MoSold"
   ]
  },
  {
   "cell_type": "code",
   "execution_count": 171,
   "id": "8ac2ae7c",
   "metadata": {},
   "outputs": [],
   "source": [
    "t.MoSold=s.fit_transform(array(t.MoSold).reshape(-1,1))"
   ]
  },
  {
   "cell_type": "code",
   "execution_count": 172,
   "id": "1f63a896",
   "metadata": {},
   "outputs": [],
   "source": [
    "t.YrSold=s.fit_transform(array(t.YrSold).reshape(-1,1))"
   ]
  },
  {
   "cell_type": "code",
   "execution_count": 173,
   "id": "5f9e439e",
   "metadata": {},
   "outputs": [
    {
     "data": {
      "text/plain": [
       "WD       891\n",
       "New       86\n",
       "COD       30\n",
       "CWD        4\n",
       "ConLw      4\n",
       "ConLD      4\n",
       "ConLI      2\n",
       "Con        1\n",
       "Oth        1\n",
       "Name: SaleType, dtype: int64"
      ]
     },
     "execution_count": 173,
     "metadata": {},
     "output_type": "execute_result"
    }
   ],
   "source": [
    "t.SaleType.value_counts()"
   ]
  },
  {
   "cell_type": "code",
   "execution_count": 174,
   "id": "1502335a",
   "metadata": {},
   "outputs": [],
   "source": [
    "j=['CWD','ConLw','ConLD','ConLI','Con','Oth']\n",
    "for i in j:\n",
    "    t=t[t.SaleType!=i]"
   ]
  },
  {
   "cell_type": "code",
   "execution_count": 175,
   "id": "cc9b39bd",
   "metadata": {},
   "outputs": [],
   "source": [
    "t.SaleType=LabelEncoder().fit_transform(t.SaleType)"
   ]
  },
  {
   "cell_type": "code",
   "execution_count": 176,
   "id": "5eb852dd",
   "metadata": {},
   "outputs": [
    {
     "data": {
      "text/plain": [
       "Normal     843\n",
       "Partial     87\n",
       "Abnorml     63\n",
       "Family      12\n",
       "AdjLand      1\n",
       "Alloca       1\n",
       "Name: SaleCondition, dtype: int64"
      ]
     },
     "execution_count": 176,
     "metadata": {},
     "output_type": "execute_result"
    }
   ],
   "source": [
    "t.SaleCondition.value_counts()"
   ]
  },
  {
   "cell_type": "code",
   "execution_count": 177,
   "id": "db90b677",
   "metadata": {},
   "outputs": [],
   "source": [
    "t=t[t.SaleCondition!='AdjLand']\n",
    "t=t[t.SaleCondition!='Alloca']"
   ]
  },
  {
   "cell_type": "code",
   "execution_count": 178,
   "id": "372400eb",
   "metadata": {},
   "outputs": [],
   "source": [
    "t.SaleCondition=LabelEncoder().fit_transform(t.SaleCondition)"
   ]
  },
  {
   "cell_type": "code",
   "execution_count": 179,
   "id": "585a2edb",
   "metadata": {},
   "outputs": [],
   "source": [
    "t['Porch']=t['OpenPorchSF']+t['EnclosedPorch']\n",
    "t.drop(['EnclosedPorch','OpenPorchSF'],axis=1,inplace=True)"
   ]
  },
  {
   "cell_type": "code",
   "execution_count": 180,
   "id": "37d43639",
   "metadata": {},
   "outputs": [
    {
     "data": {
      "text/plain": [
       "<AxesSubplot:>"
      ]
     },
     "execution_count": 180,
     "metadata": {},
     "output_type": "execute_result"
    },
    {
     "data": {
      "image/png": "[encoded data removed]",
      "text/plain": [
       "<Figure size 640x480 with 2 Axes>"
      ]
     },
     "metadata": {},
     "output_type": "display_data"
    }
   ],
   "source": [
    "heatmap(t.corr())"
   ]
  },
  {
   "cell_type": "code",
   "execution_count": 181,
   "id": "48517ab9",
   "metadata": {},
   "outputs": [],
   "source": [
    "t.drop(['GarageCars','OverallQual'],axis=1,inplace=True)"
   ]
  },
  {
   "cell_type": "code",
   "execution_count": 182,
   "id": "81abbefb",
   "metadata": {},
   "outputs": [
    {
     "data": {
      "text/plain": [
       "51"
      ]
     },
     "execution_count": 182,
     "metadata": {},
     "output_type": "execute_result"
    }
   ],
   "source": [
    "len(t.columns)"
   ]
  },
  {
   "cell_type": "code",
   "execution_count": 183,
   "id": "15b410a9",
   "metadata": {},
   "outputs": [
    {
     "name": "stdout",
     "output_type": "stream",
     "text": [
      "<class 'pandas.core.frame.DataFrame'>\n",
      "Int64Index: 1005 entries, 0 to 1459\n",
      "Data columns (total 51 columns):\n",
      " #   Column         Non-Null Count  Dtype  \n",
      "---  ------         --------------  -----  \n",
      " 0   MSSubClass     1005 non-null   int64  \n",
      " 1   MSZoning       1005 non-null   int32  \n",
      " 2   LotFrontage    1005 non-null   float64\n",
      " 3   LotArea        1005 non-null   float64\n",
      " 4   LotShape       1005 non-null   int32  \n",
      " 5   LandContour    1005 non-null   int32  \n",
      " 6   LotConfig      1005 non-null   int32  \n",
      " 7   Neighborhood   1005 non-null   int32  \n",
      " 8   BldgType       1005 non-null   int32  \n",
      " 9   HouseStyle     1005 non-null   int32  \n",
      " 10  YearBuilt      1005 non-null   int64  \n",
      " 11  YearRemodAdd   1005 non-null   int64  \n",
      " 12  RoofStyle      1005 non-null   int32  \n",
      " 13  Exterior2nd    1005 non-null   int32  \n",
      " 14  MasVnrType     1005 non-null   int32  \n",
      " 15  ExterCond      1005 non-null   int32  \n",
      " 16  Foundation     1005 non-null   int32  \n",
      " 17  BsmtQual       1005 non-null   int32  \n",
      " 18  BsmtCond       1005 non-null   int32  \n",
      " 19  BsmtExposure   1005 non-null   int32  \n",
      " 20  BsmtFinType1   1005 non-null   int32  \n",
      " 21  BsmtFinSF1     1005 non-null   int64  \n",
      " 22  BsmtUnfSF      1005 non-null   int64  \n",
      " 23  TotalBsmtSF    1005 non-null   int64  \n",
      " 24  HeatingQC      1005 non-null   int32  \n",
      " 25  CentralAir     1005 non-null   int32  \n",
      " 26  Electrical     1005 non-null   int32  \n",
      " 27  1stFlrSF       1005 non-null   float64\n",
      " 28  GrLivArea      1005 non-null   float64\n",
      " 29  BsmtFullBath   1005 non-null   int64  \n",
      " 30  BsmtHalfBath   1005 non-null   int64  \n",
      " 31  FullBath       1005 non-null   int64  \n",
      " 32  HalfBath       1005 non-null   int64  \n",
      " 33  BedroomAbvGr   1005 non-null   int64  \n",
      " 34  KitchenQual    1005 non-null   int32  \n",
      " 35  TotRmsAbvGrd   1005 non-null   int64  \n",
      " 36  Functional     1005 non-null   int32  \n",
      " 37  Fireplaces     1005 non-null   int64  \n",
      " 38  GarageType     1005 non-null   int32  \n",
      " 39  GarageYrBlt    1005 non-null   float64\n",
      " 40  GarageFinish   1005 non-null   int32  \n",
      " 41  GarageArea     1005 non-null   float64\n",
      " 42  GarageQual     1005 non-null   int32  \n",
      " 43  PavedDrive     1005 non-null   int32  \n",
      " 44  WoodDeckSF     1005 non-null   float64\n",
      " 45  MoSold         1005 non-null   float64\n",
      " 46  YrSold         1005 non-null   float64\n",
      " 47  SaleType       1005 non-null   int32  \n",
      " 48  SaleCondition  1005 non-null   int32  \n",
      " 49  SalePrice      1005 non-null   int64  \n",
      " 50  Porch          1005 non-null   float64\n",
      "dtypes: float64(10), int32(27), int64(14)\n",
      "memory usage: 302.3 KB\n"
     ]
    }
   ],
   "source": [
    "t.info()"
   ]
  },
  {
   "cell_type": "code",
   "execution_count": 184,
   "id": "a30006c6",
   "metadata": {},
   "outputs": [
    {
     "data": {
      "text/plain": [
       "<mpl_toolkits.mplot3d.art3d.Path3DCollection at 0x25b950bfa00>"
      ]
     },
     "execution_count": 184,
     "metadata": {},
     "output_type": "execute_result"
    },
    {
     "data": {
      "image/png": "[encoded data removed]",
      "text/plain": [
       "<Figure size 640x480 with 1 Axes>"
      ]
     },
     "metadata": {},
     "output_type": "display_data"
    }
   ],
   "source": [
    "ax=plt.axes(projection='3d')\n",
    "ax.scatter3D(t.SaleCondition,t.SalePrice,t.SaleType)"
   ]
  },
  {
   "cell_type": "code",
   "execution_count": 185,
   "id": "5f7dac86",
   "metadata": {},
   "outputs": [],
   "source": [
    "x_train,x_test,y_train,y_test=train_test_split(t.drop('SalePrice',axis=1),t.SalePrice,test_size=0.2,random_state=101)"
   ]
  },
  {
   "cell_type": "code",
   "execution_count": 186,
   "id": "14303618",
   "metadata": {},
   "outputs": [],
   "source": [
    "lr=LinearRegression()"
   ]
  },
  {
   "cell_type": "code",
   "execution_count": 187,
   "id": "10eb7f7a",
   "metadata": {},
   "outputs": [
    {
     "data": {
      "text/plain": [
       "LinearRegression()"
      ]
     },
     "execution_count": 187,
     "metadata": {},
     "output_type": "execute_result"
    }
   ],
   "source": [
    "lr.fit(x_train,y_train)"
   ]
  },
  {
   "cell_type": "code",
   "execution_count": 188,
   "id": "41c784d7",
   "metadata": {},
   "outputs": [
    {
     "data": {
      "text/plain": [
       "0.8804138581464764"
      ]
     },
     "execution_count": 188,
     "metadata": {},
     "output_type": "execute_result"
    }
   ],
   "source": [
    "lr.score(x_train,y_train)"
   ]
  },
  {
   "cell_type": "code",
   "execution_count": 189,
   "id": "c4115675",
   "metadata": {},
   "outputs": [
    {
     "data": {
      "text/plain": [
       "0.8764514838798068"
      ]
     },
     "execution_count": 189,
     "metadata": {},
     "output_type": "execute_result"
    }
   ],
   "source": [
    "lr.score(x_test,y_test)"
   ]
  },
  {
   "cell_type": "code",
   "execution_count": 190,
   "id": "028a7611",
   "metadata": {},
   "outputs": [],
   "source": [
    "y_pred=lr.predict(x_test)"
   ]
  },
  {
   "cell_type": "code",
   "execution_count": 193,
   "id": "b410db01",
   "metadata": {},
   "outputs": [
    {
     "data": {
      "text/plain": [
       "<AxesSubplot:ylabel='SalePrice'>"
      ]
     },
     "execution_count": 193,
     "metadata": {},
     "output_type": "execute_result"
    },
    {
     "data": {
      "image/png": "[encoded data removed]",
      "text/plain": [
       "<Figure size 640x480 with 1 Axes>"
      ]
     },
     "metadata": {},
     "output_type": "display_data"
    }
   ],
   "source": [
    "lineplot(y_pred,y_test)"
   ]
  },
  {
   "cell_type": "code",
   "execution_count": null,
   "id": "1c3d6677",
   "metadata": {},
   "outputs": [],
   "source": []
  }
 ],
 "metadata": {
  "kernelspec": {
   "display_name": "Python 3 (ipykernel)",
   "language": "python",
   "name": "python3"
  },
  "language_info": {
   "codemirror_mode": {
    "name": "ipython",
    "version": 3
   },
   "file_extension": ".py",
   "mimetype": "text/x-python",
   "name": "python",
   "nbconvert_exporter": "python",
   "pygments_lexer": "ipython3",
   "version": "3.9.13"
  }
 },
 "nbformat": 4,
 "nbformat_minor": 5
}
